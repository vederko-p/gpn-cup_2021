{
 "cells": [
  {
   "cell_type": "markdown",
   "id": "altered-elimination",
   "metadata": {},
   "source": [
    "## Подготовка данных"
   ]
  },
  {
   "cell_type": "markdown",
   "id": "broadband-filename",
   "metadata": {},
   "source": [
    "Попробуем сделать модель более персонализированной за счет объединения модели Байеса и модели Item2Item. Модель Байеса будем обучать на транзакциях для \"представившихся\" системе пользователей. На этапе прогнозирования будем поступать следующим образом:\n",
    "\n",
    "1. Если клиент \"представился\" системе, то будем предлагать ему товары исходя из рекомендаций по двум моделям.\n",
    "2. В случае же, если клиент не \"представился\" или является новым клиентом (с точки зрения отсутствия истории покупок), то будем строить предпочтения на основе модели Item2Item.\n",
    "\n",
    "Данные необходимо пересобрать."
   ]
  },
  {
   "cell_type": "code",
   "execution_count": 37,
   "id": "strong-premiere",
   "metadata": {},
   "outputs": [],
   "source": [
    "import pandas as pd\n",
    "import numpy as np"
   ]
  },
  {
   "cell_type": "code",
   "execution_count": 38,
   "id": "soviet-pension",
   "metadata": {},
   "outputs": [],
   "source": [
    "trans = pd.read_parquet('data/transactions.parquet')  # транзакции\n",
    "nom = pd.read_parquet('data/nomenclature.parquet')  # номенклатура"
   ]
  },
  {
   "cell_type": "code",
   "execution_count": 39,
   "id": "about-pavilion",
   "metadata": {},
   "outputs": [],
   "source": [
    "target_types_nom = {'Соки и сокосодержащие напитки', 'Снеки', 'Вода',\n",
    "                    'Сладкие Уранированные напитки, холодный чай',\n",
    "                    'Кофейные напитки с молоком', 'Энергетические напитки'}\n",
    "\n",
    "target_ids = nom.sku_id[nom.sku_group.isin(target_types_nom)]\n",
    "\n",
    "code_in = {indx:nom.sku_id.iloc[indx] for indx in nom.sku_id.index}\n",
    "code_out = {nom.sku_id.iloc[indx]:indx for indx in nom.sku_id.index}"
   ]
  },
  {
   "cell_type": "code",
   "execution_count": 40,
   "id": "unique-theology",
   "metadata": {},
   "outputs": [],
   "source": [
    "del nom"
   ]
  },
  {
   "cell_type": "markdown",
   "id": "aware-delicious",
   "metadata": {},
   "source": [
    "**Тренировочная выборка для модели Байеса**"
   ]
  },
  {
   "cell_type": "markdown",
   "id": "incident-feelings",
   "metadata": {},
   "source": [
    "Отбросив последний месяц рассмотрим \"представившихся\" системе пользователей:"
   ]
  },
  {
   "cell_type": "code",
   "execution_count": 41,
   "id": "wrong-smooth",
   "metadata": {},
   "outputs": [],
   "source": [
    "trans_data_sort = trans.sort_values('date')"
   ]
  },
  {
   "cell_type": "code",
   "execution_count": 42,
   "id": "pressing-employment",
   "metadata": {},
   "outputs": [],
   "source": [
    "data_first4_months = trans_data_sort[trans_data_sort['date'] < np.datetime64('2171-07-01')]"
   ]
  },
  {
   "cell_type": "code",
   "execution_count": 43,
   "id": "every-reading",
   "metadata": {},
   "outputs": [],
   "source": [
    "data_first4_months = data_first4_months.dropna()\n",
    "# помним из обзора данных, что пропуски есть только в колонке client_id"
   ]
  },
  {
   "cell_type": "code",
   "execution_count": 44,
   "id": "parental-discharge",
   "metadata": {},
   "outputs": [],
   "source": [
    "f4m_grouped_by_clienId = data_first4_months.groupby('client_id')"
   ]
  },
  {
   "cell_type": "code",
   "execution_count": 45,
   "id": "arbitrary-copyright",
   "metadata": {},
   "outputs": [],
   "source": [
    "f4m_client_groups_names = list(f4m_grouped_by_clienId.indices.keys())"
   ]
  },
  {
   "cell_type": "markdown",
   "id": "current-eagle",
   "metadata": {},
   "source": [
    "Число уникальных представившихся системе клиентов:"
   ]
  },
  {
   "cell_type": "code",
   "execution_count": 46,
   "id": "confident-development",
   "metadata": {},
   "outputs": [
    {
     "data": {
      "text/plain": [
       "329084"
      ]
     },
     "execution_count": 46,
     "metadata": {},
     "output_type": "execute_result"
    }
   ],
   "source": [
    "len(f4m_client_groups_names)"
   ]
  },
  {
   "cell_type": "code",
   "execution_count": 47,
   "id": "preceding-momentum",
   "metadata": {},
   "outputs": [],
   "source": [
    "from data_preprocessing import get_sparse_matrix, get_json, get_sparse_matrix_from_target"
   ]
  },
  {
   "cell_type": "code",
   "execution_count": 12,
   "id": "treated-trouble",
   "metadata": {
    "scrolled": true
   },
   "outputs": [
    {
     "data": {
      "application/vnd.jupyter.widget-view+json": {
       "model_id": "4331b8af294a4f03a98185a237b08f84",
       "version_major": 2,
       "version_minor": 0
      },
      "text/plain": [
       "HBox(children=(FloatProgress(value=0.0, max=20.0), HTML(value='')))"
      ]
     },
     "metadata": {},
     "output_type": "display_data"
    },
    {
     "data": {
      "application/vnd.jupyter.widget-view+json": {
       "model_id": "647500ab08134b24a54eefc89d7aaf4a",
       "version_major": 2,
       "version_minor": 0
      },
      "text/plain": [
       "HBox(children=(FloatProgress(value=0.0, max=16455.0), HTML(value='')))"
      ]
     },
     "metadata": {},
     "output_type": "display_data"
    },
    {
     "name": "stdout",
     "output_type": "stream",
     "text": [
      "\n"
     ]
    },
    {
     "data": {
      "application/vnd.jupyter.widget-view+json": {
       "model_id": "d085c5a9e8124dfa83fb04841403dd75",
       "version_major": 2,
       "version_minor": 0
      },
      "text/plain": [
       "HBox(children=(FloatProgress(value=0.0, max=16455.0), HTML(value='')))"
      ]
     },
     "metadata": {},
     "output_type": "display_data"
    },
    {
     "name": "stdout",
     "output_type": "stream",
     "text": [
      "\n"
     ]
    },
    {
     "data": {
      "application/vnd.jupyter.widget-view+json": {
       "model_id": "add7da47a2e9445ab3aa270b91ab11a6",
       "version_major": 2,
       "version_minor": 0
      },
      "text/plain": [
       "HBox(children=(FloatProgress(value=0.0, max=16455.0), HTML(value='')))"
      ]
     },
     "metadata": {},
     "output_type": "display_data"
    },
    {
     "name": "stdout",
     "output_type": "stream",
     "text": [
      "\n"
     ]
    },
    {
     "data": {
      "application/vnd.jupyter.widget-view+json": {
       "model_id": "f521f7a3a7244fbf9ddb7a9e42bf46d3",
       "version_major": 2,
       "version_minor": 0
      },
      "text/plain": [
       "HBox(children=(FloatProgress(value=0.0, max=16455.0), HTML(value='')))"
      ]
     },
     "metadata": {},
     "output_type": "display_data"
    },
    {
     "name": "stdout",
     "output_type": "stream",
     "text": [
      "\n"
     ]
    },
    {
     "data": {
      "application/vnd.jupyter.widget-view+json": {
       "model_id": "46bb7d6ee9c84df980c60e272ccd5025",
       "version_major": 2,
       "version_minor": 0
      },
      "text/plain": [
       "HBox(children=(FloatProgress(value=0.0, max=16455.0), HTML(value='')))"
      ]
     },
     "metadata": {},
     "output_type": "display_data"
    },
    {
     "name": "stdout",
     "output_type": "stream",
     "text": [
      "\n"
     ]
    },
    {
     "data": {
      "application/vnd.jupyter.widget-view+json": {
       "model_id": "4e88df6aa6fa423d80aa41744f5462c8",
       "version_major": 2,
       "version_minor": 0
      },
      "text/plain": [
       "HBox(children=(FloatProgress(value=0.0, max=16455.0), HTML(value='')))"
      ]
     },
     "metadata": {},
     "output_type": "display_data"
    },
    {
     "name": "stdout",
     "output_type": "stream",
     "text": [
      "\n"
     ]
    },
    {
     "data": {
      "application/vnd.jupyter.widget-view+json": {
       "model_id": "ccc08468aa2e4338a500608706ed4e94",
       "version_major": 2,
       "version_minor": 0
      },
      "text/plain": [
       "HBox(children=(FloatProgress(value=0.0, max=16455.0), HTML(value='')))"
      ]
     },
     "metadata": {},
     "output_type": "display_data"
    },
    {
     "name": "stdout",
     "output_type": "stream",
     "text": [
      "\n"
     ]
    },
    {
     "data": {
      "application/vnd.jupyter.widget-view+json": {
       "model_id": "99920d4103374935b2ac37b6b18363b2",
       "version_major": 2,
       "version_minor": 0
      },
      "text/plain": [
       "HBox(children=(FloatProgress(value=0.0, max=16455.0), HTML(value='')))"
      ]
     },
     "metadata": {},
     "output_type": "display_data"
    },
    {
     "name": "stdout",
     "output_type": "stream",
     "text": [
      "\n"
     ]
    },
    {
     "data": {
      "application/vnd.jupyter.widget-view+json": {
       "model_id": "03b2ccf49b244ce0b50a1827a4499c17",
       "version_major": 2,
       "version_minor": 0
      },
      "text/plain": [
       "HBox(children=(FloatProgress(value=0.0, max=16455.0), HTML(value='')))"
      ]
     },
     "metadata": {},
     "output_type": "display_data"
    },
    {
     "name": "stdout",
     "output_type": "stream",
     "text": [
      "\n"
     ]
    },
    {
     "data": {
      "application/vnd.jupyter.widget-view+json": {
       "model_id": "2e9dc78be3d5469db55f759f82267522",
       "version_major": 2,
       "version_minor": 0
      },
      "text/plain": [
       "HBox(children=(FloatProgress(value=0.0, max=16455.0), HTML(value='')))"
      ]
     },
     "metadata": {},
     "output_type": "display_data"
    },
    {
     "name": "stdout",
     "output_type": "stream",
     "text": [
      "\n"
     ]
    },
    {
     "data": {
      "application/vnd.jupyter.widget-view+json": {
       "model_id": "b2415a2a53c5494b98c29069421333a1",
       "version_major": 2,
       "version_minor": 0
      },
      "text/plain": [
       "HBox(children=(FloatProgress(value=0.0, max=16455.0), HTML(value='')))"
      ]
     },
     "metadata": {},
     "output_type": "display_data"
    },
    {
     "name": "stdout",
     "output_type": "stream",
     "text": [
      "\n"
     ]
    },
    {
     "data": {
      "application/vnd.jupyter.widget-view+json": {
       "model_id": "45ec6c8310e54f7a90a67b6ec62ca941",
       "version_major": 2,
       "version_minor": 0
      },
      "text/plain": [
       "HBox(children=(FloatProgress(value=0.0, max=16455.0), HTML(value='')))"
      ]
     },
     "metadata": {},
     "output_type": "display_data"
    },
    {
     "name": "stdout",
     "output_type": "stream",
     "text": [
      "\n"
     ]
    },
    {
     "data": {
      "application/vnd.jupyter.widget-view+json": {
       "model_id": "c992c464df3840cfbdf0b5f3e813d547",
       "version_major": 2,
       "version_minor": 0
      },
      "text/plain": [
       "HBox(children=(FloatProgress(value=0.0, max=16455.0), HTML(value='')))"
      ]
     },
     "metadata": {},
     "output_type": "display_data"
    },
    {
     "name": "stdout",
     "output_type": "stream",
     "text": [
      "\n"
     ]
    },
    {
     "data": {
      "application/vnd.jupyter.widget-view+json": {
       "model_id": "69ea22d183324de9ad5cfaff43dc2bbd",
       "version_major": 2,
       "version_minor": 0
      },
      "text/plain": [
       "HBox(children=(FloatProgress(value=0.0, max=16455.0), HTML(value='')))"
      ]
     },
     "metadata": {},
     "output_type": "display_data"
    },
    {
     "name": "stdout",
     "output_type": "stream",
     "text": [
      "\n"
     ]
    },
    {
     "data": {
      "application/vnd.jupyter.widget-view+json": {
       "model_id": "8ef2486dd1fb4275a42c9bb6a49d8edd",
       "version_major": 2,
       "version_minor": 0
      },
      "text/plain": [
       "HBox(children=(FloatProgress(value=0.0, max=16455.0), HTML(value='')))"
      ]
     },
     "metadata": {},
     "output_type": "display_data"
    },
    {
     "name": "stdout",
     "output_type": "stream",
     "text": [
      "\n"
     ]
    },
    {
     "data": {
      "application/vnd.jupyter.widget-view+json": {
       "model_id": "f50224c431244370a559e712aed04715",
       "version_major": 2,
       "version_minor": 0
      },
      "text/plain": [
       "HBox(children=(FloatProgress(value=0.0, max=16455.0), HTML(value='')))"
      ]
     },
     "metadata": {},
     "output_type": "display_data"
    },
    {
     "name": "stdout",
     "output_type": "stream",
     "text": [
      "\n"
     ]
    },
    {
     "data": {
      "application/vnd.jupyter.widget-view+json": {
       "model_id": "3a2f5e64468c422998cc07400812e33f",
       "version_major": 2,
       "version_minor": 0
      },
      "text/plain": [
       "HBox(children=(FloatProgress(value=0.0, max=16455.0), HTML(value='')))"
      ]
     },
     "metadata": {},
     "output_type": "display_data"
    },
    {
     "name": "stdout",
     "output_type": "stream",
     "text": [
      "\n"
     ]
    },
    {
     "data": {
      "application/vnd.jupyter.widget-view+json": {
       "model_id": "c64161007eca47ca92fc5a1430f35735",
       "version_major": 2,
       "version_minor": 0
      },
      "text/plain": [
       "HBox(children=(FloatProgress(value=0.0, max=16455.0), HTML(value='')))"
      ]
     },
     "metadata": {},
     "output_type": "display_data"
    },
    {
     "name": "stdout",
     "output_type": "stream",
     "text": [
      "\n"
     ]
    },
    {
     "data": {
      "application/vnd.jupyter.widget-view+json": {
       "model_id": "ee8388aab310417084df7adc11a6e730",
       "version_major": 2,
       "version_minor": 0
      },
      "text/plain": [
       "HBox(children=(FloatProgress(value=0.0, max=16455.0), HTML(value='')))"
      ]
     },
     "metadata": {},
     "output_type": "display_data"
    },
    {
     "name": "stdout",
     "output_type": "stream",
     "text": [
      "\n"
     ]
    },
    {
     "data": {
      "application/vnd.jupyter.widget-view+json": {
       "model_id": "b43978b275dd4d429abda8f143e38744",
       "version_major": 2,
       "version_minor": 0
      },
      "text/plain": [
       "HBox(children=(FloatProgress(value=0.0, max=16439.0), HTML(value='')))"
      ]
     },
     "metadata": {},
     "output_type": "display_data"
    },
    {
     "name": "stdout",
     "output_type": "stream",
     "text": [
      "\n",
      "\n"
     ]
    },
    {
     "data": {
      "text/plain": [
       "0"
      ]
     },
     "execution_count": 12,
     "metadata": {},
     "output_type": "execute_result"
    }
   ],
   "source": [
    "# get_json(f4m_grouped_by_clienId, f4m_client_groups_names, foldername='known_clients', n=20)"
   ]
  },
  {
   "cell_type": "code",
   "execution_count": 48,
   "id": "reflected-shoot",
   "metadata": {},
   "outputs": [],
   "source": [
    "del trans\n",
    "del trans_data_sort\n",
    "del data_first4_months\n",
    "del f4m_grouped_by_clienId\n",
    "del f4m_client_groups_names"
   ]
  },
  {
   "cell_type": "code",
   "execution_count": 49,
   "id": "boxed-difficulty",
   "metadata": {},
   "outputs": [
    {
     "data": {
      "application/vnd.jupyter.widget-view+json": {
       "model_id": "64067734fae3455e82a9ccdd4b062660",
       "version_major": 2,
       "version_minor": 0
      },
      "text/plain": [
       "HBox(children=(FloatProgress(value=0.0, max=20.0), HTML(value='')))"
      ]
     },
     "metadata": {},
     "output_type": "display_data"
    },
    {
     "name": "stdout",
     "output_type": "stream",
     "text": [
      "\n"
     ]
    }
   ],
   "source": [
    "train_known_sparse, train_known_ids, _ = get_sparse_matrix('json_data_known_clients', code_in)"
   ]
  },
  {
   "cell_type": "markdown",
   "id": "environmental-seller",
   "metadata": {},
   "source": [
    "**Тренировочная выборка для модели Item2Item**"
   ]
  },
  {
   "cell_type": "code",
   "execution_count": 50,
   "id": "subject-clarity",
   "metadata": {},
   "outputs": [
    {
     "data": {
      "application/vnd.jupyter.widget-view+json": {
       "model_id": "a34e11493e51454bb451b6156d799d35",
       "version_major": 2,
       "version_minor": 0
      },
      "text/plain": [
       "HBox(children=(FloatProgress(value=0.0, max=10.0), HTML(value='')))"
      ]
     },
     "metadata": {},
     "output_type": "display_data"
    },
    {
     "name": "stdout",
     "output_type": "stream",
     "text": [
      "\n"
     ]
    }
   ],
   "source": [
    "train_sparse, train_ids, _ = get_sparse_matrix('json_data_train', code_in)"
   ]
  },
  {
   "cell_type": "markdown",
   "id": "failing-amplifier",
   "metadata": {},
   "source": [
    "**Тестовая выборка**"
   ]
  },
  {
   "cell_type": "code",
   "execution_count": 51,
   "id": "missing-anchor",
   "metadata": {},
   "outputs": [],
   "source": [
    "import json"
   ]
  },
  {
   "cell_type": "code",
   "execution_count": 52,
   "id": "remarkable-benchmark",
   "metadata": {},
   "outputs": [],
   "source": [
    "file_path = 'json_data_target/target_data.json'\n",
    "with open(file_path, 'r') as read_file:\n",
    "    target_data = json.load(read_file)"
   ]
  },
  {
   "cell_type": "code",
   "execution_count": 53,
   "id": "absolute-stereo",
   "metadata": {},
   "outputs": [],
   "source": [
    "filepath = 'json_data_target/target_data.json'\n",
    "target_sparse, target_cl_ids, _ = get_sparse_matrix_from_target(filepath, code_in)"
   ]
  },
  {
   "cell_type": "markdown",
   "id": "driving-thinking",
   "metadata": {},
   "source": [
    "## Ахритектура модели"
   ]
  },
  {
   "cell_type": "code",
   "execution_count": 54,
   "id": "independent-antenna",
   "metadata": {},
   "outputs": [],
   "source": [
    "import copy\n",
    "import implicit"
   ]
  },
  {
   "cell_type": "markdown",
   "id": "specialized-above",
   "metadata": {},
   "source": [
    "Функции метрики:"
   ]
  },
  {
   "cell_type": "code",
   "execution_count": 55,
   "id": "handled-intake",
   "metadata": {},
   "outputs": [],
   "source": [
    "def pres_at_k(target, predict, k):\n",
    "    ri = [t==p for (i, (t,p)) in enumerate(zip(target, predict)) if i<k]\n",
    "    return sum(ri) / k\n",
    "\n",
    "def average_pres_at20(target, predict):\n",
    "    r = [t==p for (t,p) in zip(target, predict)]\n",
    "    pk = [pres_at_k(target, predict, k)*r[k-1] for k in range(1, 21)]\n",
    "    return sum(pk) / 20\n",
    "\n",
    "def map20(targets, predicts):\n",
    "    ap_i = [average_pres_at20(ti, pi) for (ti,pi) in zip(targets, predicts)]\n",
    "    return sum(ap_i) / len(targets)"
   ]
  },
  {
   "cell_type": "markdown",
   "id": "light-commodity",
   "metadata": {},
   "source": [
    "Вспомогательная функция объединения двух наборов товаров с весами:"
   ]
  },
  {
   "cell_type": "code",
   "execution_count": 56,
   "id": "expressed-connectivity",
   "metadata": {},
   "outputs": [],
   "source": [
    "def my_extend(lst1, lst2):\n",
    "    # unpack:\n",
    "    v1, v2 = [], []\n",
    "    w1, w2 = [], []\n",
    "    [(v1.append(v),w1.append(w)) for v,w in lst1]  # lst1\n",
    "    [(v2.append(v),w2.append(w)) for v,w in lst2]  # lst2\n",
    "    # extend:\n",
    "    for i in range(len(lst1)):  # перебираем все значения в списке 1\n",
    "        try:\n",
    "            indx = v2.index(v1[i])  # если во втором есть такое же значение\n",
    "            w1[i] = (w1[i] + w2[indx]) / 2  # то берем полусумму весов\n",
    "            del v2[indx]  # удаляем значение из второго списка\n",
    "            del w2[indx]  # удаляем вес из второго списка\n",
    "        except ValueError:\n",
    "            continue\n",
    "    # оставшиеся значение во втором списке уникальны, поэтому объединяем:\n",
    "    v1.extend(v2)\n",
    "    w1.extend(w2)\n",
    "    return list(zip(v1, w1))"
   ]
  },
  {
   "cell_type": "markdown",
   "id": "hungry-islam",
   "metadata": {},
   "source": [
    "Модель:"
   ]
  },
  {
   "cell_type": "code",
   "execution_count": 120,
   "id": "quarterly-recording",
   "metadata": {},
   "outputs": [],
   "source": [
    "class BI2I():\n",
    "    def __init__(self, cl_in_base_ids, target_ids, code_in, code_out,\n",
    "                 i2i_K=41,\n",
    "                 bpr_factors=32, bpr_regularization=0.06, bpr_iterations=250, bpr_random_state=2021):\n",
    "        # данные:\n",
    "        self.clients_in_base = cl_in_base_ids  # список id клиентов в базе\n",
    "        self.target_ids = target_ids  # список целевых товаров\n",
    "        self.code_in = code_in  # прямое кодирование\n",
    "        self.code_out = code_out  # обратное кодирование\n",
    "        # модели:\n",
    "        self.model_i2i = implicit.nearest_neighbours.CosineRecommender(K=i2i_K)\n",
    "        self.model_bpr = implicit.bpr.BayesianPersonalizedRanking(factors=bpr_factors, regularization=bpr_regularization,\n",
    "                                                                  iterations=bpr_iterations, random_state=bpr_random_state)\n",
    "    \n",
    "    def fit(self, X_cl, X_ch):\n",
    "        # X_cl - sparse matrix for BPR (транзакции, сгруппированные по клиентам)\n",
    "        # X_ch - sparse matrix for I2I (транзакции, сгруппированные по чекам)\n",
    "        self.X_cl = X_cl\n",
    "        self.X_ch = X_ch\n",
    "        print('Модель Байеса:')\n",
    "        self.model_bpr.fit(X_cl.T)  # модель Байеса\n",
    "        print('модель Item2Item:')\n",
    "        self.model_i2i.fit(X_ch.T)  # модель Item2Item\n",
    "        # BaseLine:\n",
    "        total = np.array(X_ch.sum(axis=0)).flatten()\n",
    "        sorted_all = np.vectorize(self.code_out.get)(total.argsort())\n",
    "        sorted_target = sorted_all[np.isin(sorted_all, self.target_ids)]\n",
    "        self.best20 = np.flip(sorted_target[-20:])\n",
    "        \n",
    "    def predict(self, x, cl_id, a):\n",
    "        # x - строка разреженной матрицы\n",
    "        # cl_id - id клиента\n",
    "        # a - коэффициент предпочтения рекомендаций по модели Байеса\n",
    "        # ---| 1. Предсказание по модели Item2Item |---\n",
    "        pred_i2i = self.model_i2i.recommend(0, x, N=974,\n",
    "                                            filter_already_liked_items=False,\n",
    "                                            recalculate_user=True)\n",
    "        # отсеивание нецелевых товаров:\n",
    "        pred_i2i_targ = [(p[0],p[1]) for p in pred_i2i if self.code_out[p[0]] in self.target_ids]\n",
    "        # отсеивание товаров, содержащихся в чеке:\n",
    "        pred_i2i_targ = [(self.code_out[p[0]],p[1]) for p in pred_i2i_targ if not p[0] in x.nonzero()[1]]\n",
    "        # нормировка (степень предпочтения -> вес):\n",
    "        norm = sum([p[1] for p in pred_i2i_targ])\n",
    "        rec_i2i = [(r[0],r[1]/norm) for r in pred_i2i_targ]  # товары и веса\n",
    "        # ---| 2. Предсказание по модели Байеса |---\n",
    "        try:  # клиент есть в базе:\n",
    "            # номер строки в разреженной матрице (Клиент-Товар):\n",
    "            row_id = self.clients_in_base.index(cl_id)\n",
    "            pred_bpr = self.model_bpr.recommend(row_id, self.X_cl, N=974, filter_already_liked_items=False)\n",
    "            # отсеивание нецелевых товаров:\n",
    "            pred_bpr_targ = [(pb[0],pb[1]) for pb in pred_bpr if self.code_out[pb[0]] in self.target_ids]\n",
    "            # отсеивание товаров, содержащихся в чеке:\n",
    "            pred_bpr_targ = [(self.code_out[rb[0]],rb[1]) for rb in pred_bpr_targ if not rb[0] in x.nonzero()[1]]\n",
    "            norm = sum([rb[1] for rb in pred_bpr_targ])  # нормировка (степень предпочтения -> вес)\n",
    "            rec_bpr = [(rb[0],rb[1]/norm) for rb in pred_bpr_targ]  # товары и веса\n",
    "            # перенормируем все полученные веса с учетом параметра альфа:\n",
    "            rec_bpr = [(rb[0],rb[1]*a) for rb in rec_bpr]\n",
    "            rec_i2i = [(r[0],r[1]*(1-a)) for r in rec_i2i]\n",
    "            # объединим все рекомендации и нормированные веса:\n",
    "            rec_all = my_extend(rec_bpr, rec_i2i)\n",
    "            # еще раз перенормируем все полученные веса:\n",
    "            norm = sum([ra[1] for ra in rec_all])\n",
    "            rec_all = [(ra[0],ra[1]/norm) for ra in rec_all]\n",
    "            # упорядочим рекомендации по получившимся весам:\n",
    "            rec_all = sorted(rec_all, key=lambda x: x[1], reverse=True)\n",
    "            # вытащим только номера товаров:\n",
    "            rec_all = [ra[0] for ra in rec_all]\n",
    "        except ValueError:  # клиента нет в базе:\n",
    "            rec_all = rec_i2i.copy()\n",
    "            # упорядочим рекомендации по получившимся весам:\n",
    "            rec_all = sorted(rec_all, key=lambda x: x[1], reverse=True)\n",
    "            # вытащим только номера товаров:\n",
    "            rec_all = [ra[0] for ra in rec_all]\n",
    "        # проверим количество товаров в получившейся рекомендации; если\n",
    "        # их количество < 20, то дополним рекомендацию товарами из BaseLine:\n",
    "        rec_len = len(rec_all)\n",
    "        if rec_len < 20:\n",
    "            best20_unique = list(self.best20[~np.isin(self.best20, rec_all)])\n",
    "            rec_all.extend(best20_unique[-(20-rec_len):])\n",
    "        return rec_all[:20]\n",
    "    \n",
    "    def metric(self, Y, ts, a):\n",
    "        # Y - размеченные данные в формате, получаемом из JSON файлов\n",
    "        # ts - target_sparse\n",
    "        # a - коэффициент предпочтения рекомендаций по модели Байеса\n",
    "        data_for_pred = copy.deepcopy(Y)\n",
    "        # построение прогнозов:\n",
    "        for row_id,client in enumerate(data_for_pred['clients']):\n",
    "            client['predict'] = self.predict(ts[row_id], client['client_id'], a)\n",
    "        # расчет метрики:\n",
    "        targets, predicts = [], []\n",
    "        for client in data_for_pred['clients']:\n",
    "            targets.append(client['target'])\n",
    "            predicts.append(client['predict'])\n",
    "        return map20(targets, predicts)"
   ]
  },
  {
   "cell_type": "markdown",
   "id": "bored-prospect",
   "metadata": {},
   "source": [
    "Создадим модель:"
   ]
  },
  {
   "cell_type": "code",
   "execution_count": 121,
   "id": "alternative-professor",
   "metadata": {},
   "outputs": [],
   "source": [
    "model = BI2I(train_known_ids, target_ids, code_in, code_out) "
   ]
  },
  {
   "cell_type": "markdown",
   "id": "congressional-hypothesis",
   "metadata": {},
   "source": [
    "Реализуем первичное обучение модели:"
   ]
  },
  {
   "cell_type": "code",
   "execution_count": 122,
   "id": "female-image",
   "metadata": {},
   "outputs": [
    {
     "name": "stdout",
     "output_type": "stream",
     "text": [
      "Модель Байеса:\n"
     ]
    },
    {
     "data": {
      "application/vnd.jupyter.widget-view+json": {
       "model_id": "6289e22632df4ac1a774ba9acf9cad9e",
       "version_major": 2,
       "version_minor": 0
      },
      "text/plain": [
       "HBox(children=(FloatProgress(value=0.0, max=250.0), HTML(value='')))"
      ]
     },
     "metadata": {},
     "output_type": "display_data"
    },
    {
     "name": "stdout",
     "output_type": "stream",
     "text": [
      "\n",
      "модель Item2Item:\n"
     ]
    },
    {
     "data": {
      "application/vnd.jupyter.widget-view+json": {
       "model_id": "36944356af1d47d1a1aedacd789e66a6",
       "version_major": 2,
       "version_minor": 0
      },
      "text/plain": [
       "HBox(children=(FloatProgress(value=0.0, max=5103.0), HTML(value='')))"
      ]
     },
     "metadata": {},
     "output_type": "display_data"
    },
    {
     "name": "stdout",
     "output_type": "stream",
     "text": [
      "\n"
     ]
    }
   ],
   "source": [
    "model.fit(train_known_sparse, train_sparse)"
   ]
  },
  {
   "cell_type": "markdown",
   "id": "rotary-animation",
   "metadata": {},
   "source": [
    "Получим рекомендации:"
   ]
  },
  {
   "cell_type": "code",
   "execution_count": 123,
   "id": "composed-footwear",
   "metadata": {},
   "outputs": [],
   "source": [
    "i = 38\n",
    "client_id = target_cl_ids[i]\n",
    "client_row = target_sparse.getrow(i)"
   ]
  },
  {
   "cell_type": "code",
   "execution_count": 124,
   "id": "annual-birmingham",
   "metadata": {},
   "outputs": [
    {
     "data": {
      "text/plain": [
       "[1159, 2346, 1913, 4113, 2629, 398, 3121, 2339, 4752, 118]"
      ]
     },
     "execution_count": 124,
     "metadata": {},
     "output_type": "execute_result"
    }
   ],
   "source": [
    "model.predict(client_row, client_id, 0.5)[:10]"
   ]
  },
  {
   "cell_type": "markdown",
   "id": "photographic-dynamics",
   "metadata": {},
   "source": [
    "Значение метрики:"
   ]
  },
  {
   "cell_type": "code",
   "execution_count": 125,
   "id": "permanent-symphony",
   "metadata": {},
   "outputs": [
    {
     "data": {
      "text/plain": [
       "4.972222222222222e-05"
      ]
     },
     "execution_count": 125,
     "metadata": {},
     "output_type": "execute_result"
    }
   ],
   "source": [
    "model.metric(target_data, target_sparse, 0.5)"
   ]
  },
  {
   "cell_type": "markdown",
   "id": "viral-implementation",
   "metadata": {},
   "source": [
    "Варьирование параметра $\\alpha$:"
   ]
  },
  {
   "cell_type": "code",
   "execution_count": 126,
   "id": "animal-zambia",
   "metadata": {},
   "outputs": [],
   "source": [
    "from tqdm.notebook import tqdm"
   ]
  },
  {
   "cell_type": "code",
   "execution_count": 127,
   "id": "explicit-royalty",
   "metadata": {},
   "outputs": [
    {
     "data": {
      "application/vnd.jupyter.widget-view+json": {
       "model_id": "e5bd5f6ab72541a09a88dab0ecf1072a",
       "version_major": 2,
       "version_minor": 0
      },
      "text/plain": [
       "HBox(children=(FloatProgress(value=0.0), HTML(value='')))"
      ]
     },
     "metadata": {},
     "output_type": "display_data"
    },
    {
     "name": "stdout",
     "output_type": "stream",
     "text": [
      "\n"
     ]
    }
   ],
   "source": [
    "a_variation = np.linspace(0.01, 1, 100)\n",
    "\n",
    "metric_results = []\n",
    "for a in tqdm(a_variation):\n",
    "    metric_results.append(model.metric(target_data, target_sparse, a))"
   ]
  },
  {
   "cell_type": "code",
   "execution_count": 128,
   "id": "expanded-defense",
   "metadata": {},
   "outputs": [],
   "source": [
    "import matplotlib.pyplot as plt"
   ]
  },
  {
   "cell_type": "code",
   "execution_count": 129,
   "id": "collaborative-protein",
   "metadata": {},
   "outputs": [],
   "source": [
    "l = len(metric_results)\n",
    "mmax = max(metric_results)\n",
    "max_m_index = np.argsort(np.array(metric_results))[-1]"
   ]
  },
  {
   "cell_type": "code",
   "execution_count": 130,
   "id": "hearing-taxation",
   "metadata": {},
   "outputs": [
    {
     "data": {
      "image/png": "[encoded data removed]",
      "text/plain": [
       "<Figure size 648x432 with 1 Axes>"
      ]
     },
     "metadata": {
      "needs_background": "light"
     },
     "output_type": "display_data"
    }
   ],
   "source": [
    "fig, ax = plt.subplots(figsize=(9,6))\n",
    "ax.plot(range(l), metric_results)\n",
    "ax.plot(range(l), [mmax]*l, 'r--', color='orange',\n",
    "        label='m={}\\na={}'.format(round(mmax,6), round(a_variation[max_m_index], 2)))\n",
    "ax.set_title('Метрика качества для различных a', fontsize=15)\n",
    "ax.legend(fontsize=13)\n",
    "plt.tick_params(axis='x', which='both',\n",
    "                bottom=False, top=False, labelbottom=False)\n",
    "plt.show()"
   ]
  },
  {
   "cell_type": "markdown",
   "id": "cordless-hungarian",
   "metadata": {},
   "source": [
    "Наилучший результат метрики при $\\alpha=0.93$ составляет $0.000149$."
   ]
  },
  {
   "cell_type": "markdown",
   "id": "polar-church",
   "metadata": {},
   "source": [
    "Прирост относительно Baseline:"
   ]
  },
  {
   "cell_type": "code",
   "execution_count": 131,
   "id": "offshore-singapore",
   "metadata": {},
   "outputs": [
    {
     "data": {
      "text/plain": [
       "2.56"
      ]
     },
     "execution_count": 131,
     "metadata": {},
     "output_type": "execute_result"
    }
   ],
   "source": [
    "round(max(metric_results) / 0.0000583, 2)"
   ]
  },
  {
   "cell_type": "markdown",
   "id": "arctic-decrease",
   "metadata": {},
   "source": [
    "Модель BI2I сохраним в отдельный файл `bi2i.py`."
   ]
  }
 ],
 "metadata": {
  "kernelspec": {
   "display_name": "Python 3",
   "language": "python",
   "name": "python3"
  },
  "language_info": {
   "codemirror_mode": {
    "name": "ipython",
    "version": 3
   },
   "file_extension": ".py",
   "mimetype": "text/x-python",
   "name": "python",
   "nbconvert_exporter": "python",
   "pygments_lexer": "ipython3",
   "version": "3.7.9"
  }
 },
 "nbformat": 4,
 "nbformat_minor": 5
}
