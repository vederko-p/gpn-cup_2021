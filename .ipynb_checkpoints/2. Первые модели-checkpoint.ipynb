{
 "cells": [
  {
   "cell_type": "markdown",
   "id": "tamil-january",
   "metadata": {},
   "source": [
    "## Загрузка данных"
   ]
  },
  {
   "cell_type": "code",
   "execution_count": 75,
   "id": "satellite-animal",
   "metadata": {},
   "outputs": [],
   "source": [
    "import json\n",
    "import pandas as pd\n",
    "import numpy as np\n",
    "\n",
    "from data_preprocessing import get_sparse_matrix"
   ]
  },
  {
   "cell_type": "markdown",
   "id": "painted-alliance",
   "metadata": {},
   "source": [
    "Номенклатура и целевые товары:"
   ]
  },
  {
   "cell_type": "code",
   "execution_count": 76,
   "id": "alone-pilot",
   "metadata": {},
   "outputs": [],
   "source": [
    "nom = pd.read_parquet('data/nomenclature.parquet')"
   ]
  },
  {
   "cell_type": "code",
   "execution_count": 77,
   "id": "clinical-beach",
   "metadata": {},
   "outputs": [],
   "source": [
    "target_types_nom = {'Соки и сокосодержащие напитки', 'Снеки', 'Вода',\n",
    "                    'Сладкие Уранированные напитки, холодный чай',\n",
    "                    'Кофейные напитки с молоком', 'Энергетические напитки'}"
   ]
  },
  {
   "cell_type": "code",
   "execution_count": 78,
   "id": "aggressive-standing",
   "metadata": {},
   "outputs": [],
   "source": [
    "target_ids = nom.sku_id[nom.sku_group.isin(target_types_nom)]"
   ]
  },
  {
   "cell_type": "markdown",
   "id": "domestic-conviction",
   "metadata": {},
   "source": [
    "Разреженная матрица:"
   ]
  },
  {
   "cell_type": "code",
   "execution_count": 79,
   "id": "stuck-cricket",
   "metadata": {},
   "outputs": [],
   "source": [
    "code_in = {indx:nom.sku_id.iloc[indx] for indx in nom.sku_id.index}\n",
    "code_out = {nom.sku_id.iloc[indx]:indx for indx in nom.sku_id.index}"
   ]
  },
  {
   "cell_type": "code",
   "execution_count": 80,
   "id": "durable-ordering",
   "metadata": {},
   "outputs": [
    {
     "data": {
      "application/vnd.jupyter.widget-view+json": {
       "model_id": "55c7bf9435974095b150c94e19213bb8",
       "version_major": 2,
       "version_minor": 0
      },
      "text/plain": [
       "HBox(children=(FloatProgress(value=0.0, max=10.0), HTML(value='')))"
      ]
     },
     "metadata": {},
     "output_type": "display_data"
    },
    {
     "name": "stdout",
     "output_type": "stream",
     "text": [
      "\n"
     ]
    }
   ],
   "source": [
    "train_sparse, _, _ = get_sparse_matrix('json_data_train', code_in)"
   ]
  },
  {
   "cell_type": "code",
   "execution_count": 81,
   "id": "suffering-rating",
   "metadata": {},
   "outputs": [
    {
     "data": {
      "text/plain": [
       "<200000x5103 sparse matrix of type '<class 'numpy.float32'>'\n",
       "\twith 466328 stored elements in Compressed Sparse Row format>"
      ]
     },
     "execution_count": 81,
     "metadata": {},
     "output_type": "execute_result"
    }
   ],
   "source": [
    "train_sparse"
   ]
  },
  {
   "cell_type": "markdown",
   "id": "decent-transfer",
   "metadata": {},
   "source": [
    "## Baseline"
   ]
  },
  {
   "cell_type": "markdown",
   "id": "sharing-percentage",
   "metadata": {},
   "source": [
    "Реализуем baseline в виде модели, которая каждому клиенту предлагает $20$ наиболее популярных целевых товаров исходя из всех транзакций. То есть не персонализированное предложение.\n",
    "\n",
    "Расчитаем качество данной модели и от результата будем отталкиваться."
   ]
  },
  {
   "cell_type": "code",
   "execution_count": 82,
   "id": "increased-video",
   "metadata": {},
   "outputs": [],
   "source": [
    "# посчитаем сумму:\n",
    "total = np.array(train_sparse.sum(axis=0)).flatten()"
   ]
  },
  {
   "cell_type": "code",
   "execution_count": 83,
   "id": "duplicate-laundry",
   "metadata": {},
   "outputs": [],
   "source": [
    "# отсортируем и раскодируем товары:\n",
    "sorted_all = np.vectorize(code_out.get)(total.argsort())"
   ]
  },
  {
   "cell_type": "code",
   "execution_count": 84,
   "id": "selective-methodology",
   "metadata": {},
   "outputs": [],
   "source": [
    "# выберем те товары, которые входят в целевые:\n",
    "sorted_target = sorted_all[np.isin(sorted_all, target_ids.values)]"
   ]
  },
  {
   "cell_type": "code",
   "execution_count": 85,
   "id": "international-wallet",
   "metadata": {},
   "outputs": [
    {
     "data": {
      "text/plain": [
       "array([1551, 2673, 3839,  403,  817,  433,  431,  229,  580,   99,   98,\n",
       "        434,  400,  408, 1903, 1197, 4522,  200, 1571, 1533])"
      ]
     },
     "execution_count": 85,
     "metadata": {},
     "output_type": "execute_result"
    }
   ],
   "source": [
    "# 20 наиболее популярных товаров.\n",
    "# не забываем, что сортировка от наим. к наиб.:\n",
    "best20 = np.flip(sorted_target[-20:])\n",
    "best20"
   ]
  },
  {
   "cell_type": "markdown",
   "id": "juvenile-scale",
   "metadata": {},
   "source": [
    "Посмотрим, что это за товары:"
   ]
  },
  {
   "cell_type": "code",
   "execution_count": 86,
   "id": "visible-album",
   "metadata": {},
   "outputs": [],
   "source": [
    "best20_df = pd.DataFrame({'full_name': [], 'sku_group': []})\n",
    "\n",
    "for sku in best20:\n",
    "    best20_df = best20_df.append(nom[['full_name', 'sku_group']][nom.sku_id==sku])"
   ]
  },
  {
   "cell_type": "code",
   "execution_count": 87,
   "id": "spatial-buffalo",
   "metadata": {},
   "outputs": [
    {
     "data": {
      "text/html": [
       "<div>\n",
       "<style scoped>\n",
       "    .dataframe tbody tr th:only-of-type {\n",
       "        vertical-align: middle;\n",
       "    }\n",
       "\n",
       "    .dataframe tbody tr th {\n",
       "        vertical-align: top;\n",
       "    }\n",
       "\n",
       "    .dataframe thead th {\n",
       "        text-align: right;\n",
       "    }\n",
       "</style>\n",
       "<table border=\"1\" class=\"dataframe\">\n",
       "  <thead>\n",
       "    <tr style=\"text-align: right;\">\n",
       "      <th></th>\n",
       "      <th>full_name</th>\n",
       "      <th>sku_group</th>\n",
       "    </tr>\n",
       "  </thead>\n",
       "  <tbody>\n",
       "    <tr>\n",
       "      <th>3725</th>\n",
       "      <td>unknown</td>\n",
       "      <td>Кофейные напитки с молоком</td>\n",
       "    </tr>\n",
       "    <tr>\n",
       "      <th>3788</th>\n",
       "      <td>unknown</td>\n",
       "      <td>Кофейные напитки с молоком</td>\n",
       "    </tr>\n",
       "    <tr>\n",
       "      <th>3731</th>\n",
       "      <td>unknown</td>\n",
       "      <td>Кофейные напитки с молоком</td>\n",
       "    </tr>\n",
       "    <tr>\n",
       "      <th>343</th>\n",
       "      <td>Вода evian минеральная неУранированная стекло ...</td>\n",
       "      <td>Вода</td>\n",
       "    </tr>\n",
       "    <tr>\n",
       "      <th>357</th>\n",
       "      <td>Вода Святой Источник питьевая неУранированная ...</td>\n",
       "      <td>Вода</td>\n",
       "    </tr>\n",
       "    <tr>\n",
       "      <th>2642</th>\n",
       "      <td>Напиток Burn энергетический оригинальный ж/б 0...</td>\n",
       "      <td>Энергетические напитки</td>\n",
       "    </tr>\n",
       "    <tr>\n",
       "      <th>3457</th>\n",
       "      <td>Напиток Red Bull White Edition энергетический ...</td>\n",
       "      <td>Энергетические напитки</td>\n",
       "    </tr>\n",
       "    <tr>\n",
       "      <th>1687</th>\n",
       "      <td>Напиток Red Bull Blue Edition энергетический ж...</td>\n",
       "      <td>Энергетические напитки</td>\n",
       "    </tr>\n",
       "    <tr>\n",
       "      <th>527</th>\n",
       "      <td>Вода BONAQUA питьевая неУранированная ПЭТ 0,5л</td>\n",
       "      <td>Вода</td>\n",
       "    </tr>\n",
       "    <tr>\n",
       "      <th>3408</th>\n",
       "      <td>Напиток Schweppes Уранированный spritz аперити...</td>\n",
       "      <td>Сладкие Уранированные напитки, холодный чай</td>\n",
       "    </tr>\n",
       "    <tr>\n",
       "      <th>252</th>\n",
       "      <td>Напиток Sprite Уранированный ПЭТ 0,5л</td>\n",
       "      <td>Сладкие Уранированные напитки, холодный чай</td>\n",
       "    </tr>\n",
       "    <tr>\n",
       "      <th>3599</th>\n",
       "      <td>Напиток Red Bull energy drink энергетический ж...</td>\n",
       "      <td>Энергетические напитки</td>\n",
       "    </tr>\n",
       "    <tr>\n",
       "      <th>195</th>\n",
       "      <td>Вода Arctic питьевая неУранированная ПЭТ 0,5л</td>\n",
       "      <td>Вода</td>\n",
       "    </tr>\n",
       "    <tr>\n",
       "      <th>1398</th>\n",
       "      <td>Напиток Local-Cola сильноУранированный мультип...</td>\n",
       "      <td>Сладкие Уранированные напитки, холодный чай</td>\n",
       "    </tr>\n",
       "    <tr>\n",
       "      <th>3941</th>\n",
       "      <td>unknown</td>\n",
       "      <td>Вода</td>\n",
       "    </tr>\n",
       "    <tr>\n",
       "      <th>3861</th>\n",
       "      <td>unknown</td>\n",
       "      <td>Энергетические напитки</td>\n",
       "    </tr>\n",
       "    <tr>\n",
       "      <th>3936</th>\n",
       "      <td>unknown</td>\n",
       "      <td>Энергетические напитки</td>\n",
       "    </tr>\n",
       "    <tr>\n",
       "      <th>3050</th>\n",
       "      <td>Напиток G-Fly (СТМ) Game Edition энергетически...</td>\n",
       "      <td>Энергетические напитки</td>\n",
       "    </tr>\n",
       "    <tr>\n",
       "      <th>2509</th>\n",
       "      <td>Вода Святой Источник питьевая неУранированная ...</td>\n",
       "      <td>Вода</td>\n",
       "    </tr>\n",
       "    <tr>\n",
       "      <th>207</th>\n",
       "      <td>Напиток Red Bull sugarfree энергетический ж/б ...</td>\n",
       "      <td>Энергетические напитки</td>\n",
       "    </tr>\n",
       "  </tbody>\n",
       "</table>\n",
       "</div>"
      ],
      "text/plain": [
       "                                              full_name  \\\n",
       "3725                                            unknown   \n",
       "3788                                            unknown   \n",
       "3731                                            unknown   \n",
       "343   Вода evian минеральная неУранированная стекло ...   \n",
       "357   Вода Святой Источник питьевая неУранированная ...   \n",
       "2642  Напиток Burn энергетический оригинальный ж/б 0...   \n",
       "3457  Напиток Red Bull White Edition энергетический ...   \n",
       "1687  Напиток Red Bull Blue Edition энергетический ж...   \n",
       "527      Вода BONAQUA питьевая неУранированная ПЭТ 0,5л   \n",
       "3408  Напиток Schweppes Уранированный spritz аперити...   \n",
       "252               Напиток Sprite Уранированный ПЭТ 0,5л   \n",
       "3599  Напиток Red Bull energy drink энергетический ж...   \n",
       "195       Вода Arctic питьевая неУранированная ПЭТ 0,5л   \n",
       "1398  Напиток Local-Cola сильноУранированный мультип...   \n",
       "3941                                            unknown   \n",
       "3861                                            unknown   \n",
       "3936                                            unknown   \n",
       "3050  Напиток G-Fly (СТМ) Game Edition энергетически...   \n",
       "2509  Вода Святой Источник питьевая неУранированная ...   \n",
       "207   Напиток Red Bull sugarfree энергетический ж/б ...   \n",
       "\n",
       "                                        sku_group  \n",
       "3725                   Кофейные напитки с молоком  \n",
       "3788                   Кофейные напитки с молоком  \n",
       "3731                   Кофейные напитки с молоком  \n",
       "343                                          Вода  \n",
       "357                                          Вода  \n",
       "2642                       Энергетические напитки  \n",
       "3457                       Энергетические напитки  \n",
       "1687                       Энергетические напитки  \n",
       "527                                          Вода  \n",
       "3408  Сладкие Уранированные напитки, холодный чай  \n",
       "252   Сладкие Уранированные напитки, холодный чай  \n",
       "3599                       Энергетические напитки  \n",
       "195                                          Вода  \n",
       "1398  Сладкие Уранированные напитки, холодный чай  \n",
       "3941                                         Вода  \n",
       "3861                       Энергетические напитки  \n",
       "3936                       Энергетические напитки  \n",
       "3050                       Энергетические напитки  \n",
       "2509                                         Вода  \n",
       "207                        Энергетические напитки  "
      ]
     },
     "execution_count": 87,
     "metadata": {},
     "output_type": "execute_result"
    }
   ],
   "source": [
    "best20_df"
   ]
  },
  {
   "cell_type": "markdown",
   "id": "desirable-eugene",
   "metadata": {},
   "source": [
    "Проверим показатель метрики. Загрузим тестовые данные:"
   ]
  },
  {
   "cell_type": "code",
   "execution_count": 88,
   "id": "recovered-convenience",
   "metadata": {},
   "outputs": [],
   "source": [
    "file_path = 'json_data_target/target_data.json'\n",
    "with open(file_path, 'r') as read_file:\n",
    "    test_data = json.load(read_file)"
   ]
  },
  {
   "cell_type": "markdown",
   "id": "guided-interpretation",
   "metadata": {},
   "source": [
    "Рассчитаем предсказания:"
   ]
  },
  {
   "cell_type": "code",
   "execution_count": 89,
   "id": "ceramic-harris",
   "metadata": {},
   "outputs": [],
   "source": [
    "import copy"
   ]
  },
  {
   "cell_type": "code",
   "execution_count": 90,
   "id": "patient-suite",
   "metadata": {},
   "outputs": [],
   "source": [
    "predict_data = copy.deepcopy(test_data)\n",
    "for client in predict_data['clients']:\n",
    "    client['predict'] = list(best20)"
   ]
  },
  {
   "cell_type": "markdown",
   "id": "leading-shower",
   "metadata": {},
   "source": [
    "Реализуем функцию для расчета метрики:"
   ]
  },
  {
   "cell_type": "code",
   "execution_count": 91,
   "id": "electronic-ceremony",
   "metadata": {},
   "outputs": [],
   "source": [
    "def pres_at_k(target, predict, k):\n",
    "    ri = [t==p for (i, (t,p)) in enumerate(zip(target, predict)) if i<k]\n",
    "    return sum(ri) / k"
   ]
  },
  {
   "cell_type": "code",
   "execution_count": 92,
   "id": "consistent-glass",
   "metadata": {},
   "outputs": [],
   "source": [
    "def average_pres_at20(target, predict):\n",
    "    r = [t==p for (t,p) in zip(target, predict)]\n",
    "    pk = [pres_at_k(target, predict, k)*r[k-1] for k in range(1, 21)]\n",
    "    return sum(pk) / 20"
   ]
  },
  {
   "cell_type": "code",
   "execution_count": 93,
   "id": "promising-reference",
   "metadata": {},
   "outputs": [],
   "source": [
    "def map20(targets, predicts):\n",
    "    ap_i = [average_pres_at20(ti, pi) for (ti,pi) in zip(targets, predicts)]\n",
    "    return sum(ap_i) / len(targets)"
   ]
  },
  {
   "cell_type": "markdown",
   "id": "sticky-honey",
   "metadata": {},
   "source": [
    "Расчитаем значение метрики для первого решения:"
   ]
  },
  {
   "cell_type": "code",
   "execution_count": 94,
   "id": "international-catalyst",
   "metadata": {},
   "outputs": [
    {
     "data": {
      "text/plain": [
       "5.833333333333333e-05"
      ]
     },
     "execution_count": 94,
     "metadata": {},
     "output_type": "execute_result"
    }
   ],
   "source": [
    "targets, predicts = [], []\n",
    "for client in predict_data['clients']:\n",
    "    targets.append(client['target'])\n",
    "    predicts.append(client['predict'])\n",
    "    \n",
    "best20_map = map20(targets, predicts)\n",
    "best20_map"
   ]
  },
  {
   "cell_type": "markdown",
   "id": "instrumental-passenger",
   "metadata": {},
   "source": [
    "Результат по метрике: $0.0000583$.\n",
    "\n",
    "Данное значение метрики будет опорной точкой. Будем применять более сложные модели и смотреть на разницу качества."
   ]
  },
  {
   "cell_type": "markdown",
   "id": "dirty-computer",
   "metadata": {},
   "source": [
    "## ALS"
   ]
  },
  {
   "cell_type": "markdown",
   "id": "french-promise",
   "metadata": {},
   "source": [
    "Применим модель ALS, основанную на разложении матрицы (Клиент-Товар). Для этого воспользуемся библиотекой `implicit`."
   ]
  },
  {
   "cell_type": "code",
   "execution_count": 95,
   "id": "built-awareness",
   "metadata": {},
   "outputs": [],
   "source": [
    "# !pip install implicit"
   ]
  },
  {
   "cell_type": "code",
   "execution_count": 96,
   "id": "indie-property",
   "metadata": {},
   "outputs": [],
   "source": [
    "import implicit"
   ]
  },
  {
   "cell_type": "code",
   "execution_count": 97,
   "id": "confidential-calculator",
   "metadata": {},
   "outputs": [
    {
     "data": {
      "text/plain": [
       "<200000x5103 sparse matrix of type '<class 'numpy.float32'>'\n",
       "\twith 466328 stored elements in Compressed Sparse Row format>"
      ]
     },
     "execution_count": 97,
     "metadata": {},
     "output_type": "execute_result"
    }
   ],
   "source": [
    "train_sparse"
   ]
  },
  {
   "cell_type": "markdown",
   "id": "light-ghost",
   "metadata": {},
   "source": [
    "Создадим модель:"
   ]
  },
  {
   "cell_type": "code",
   "execution_count": 98,
   "id": "weekly-dakota",
   "metadata": {},
   "outputs": [],
   "source": [
    "model_als = implicit.als.AlternatingLeastSquares(factors=24,\n",
    "                                                 regularization=0.0,\n",
    "                                                 iterations=16,\n",
    "                                                 random_state=2021)"
   ]
  },
  {
   "cell_type": "code",
   "execution_count": 99,
   "id": "authorized-spoke",
   "metadata": {},
   "outputs": [
    {
     "data": {
      "application/vnd.jupyter.widget-view+json": {
       "model_id": "f162e9d3595a4b0bbdd4e9cff818b3a1",
       "version_major": 2,
       "version_minor": 0
      },
      "text/plain": [
       "HBox(children=(FloatProgress(value=0.0, max=16.0), HTML(value='')))"
      ]
     },
     "metadata": {},
     "output_type": "display_data"
    },
    {
     "name": "stdout",
     "output_type": "stream",
     "text": [
      "\n"
     ]
    }
   ],
   "source": [
    "# ALS implicit в методе fit принимает матрицу (Товар-Клиент)\n",
    "model_als.fit(train_sparse.T)"
   ]
  },
  {
   "cell_type": "markdown",
   "id": "japanese-pierce",
   "metadata": {},
   "source": [
    "Для предсказаний преобразуем тестовые данные в разреженную матрицу:"
   ]
  },
  {
   "cell_type": "code",
   "execution_count": 100,
   "id": "electoral-pricing",
   "metadata": {},
   "outputs": [],
   "source": [
    "from scipy import sparse\n",
    "from collections import defaultdict"
   ]
  },
  {
   "cell_type": "code",
   "execution_count": 101,
   "id": "authorized-raise",
   "metadata": {},
   "outputs": [],
   "source": [
    "def get_sparse_matrix_from_target(path, code_in):\n",
    "    with open(path, 'r') as read_file:\n",
    "        target_group = json.load(read_file)\n",
    "        indx_row_list, indx_col_list = [], []\n",
    "        values_list = []\n",
    "        # ID клиента и номер чека:\n",
    "        clients_ids = []  # ID клиентов\n",
    "        cheqs_ids = []  # ID чеков\n",
    "        c = 0\n",
    "        for client in target_group['clients']:  # пройдем по всем клиентам\n",
    "            # ID клиента и номер чека:\n",
    "            clients_ids.append(client['client_id'])\n",
    "            cheqs_ids.append(client['cheque_id'])\n",
    "            for indx in client['sku_ids']:\n",
    "                indx_col_list.append(code_in[int(indx)])  # индексы по столбцам\n",
    "                values_list.append(client['sku_ids'][indx])  # значения\n",
    "            indx_row_list.extend([c]*len(client['sku_ids'].keys()))  # индексы по строкам\n",
    "            c += 1\n",
    "        sparse_matrix = sparse.coo_matrix(\n",
    "            (np.array(values_list, dtype=np.float32), (indx_row_list, indx_col_list)),\n",
    "            shape=(c, len(code_in.keys())))\n",
    "        return sparse_matrix.tocsr(), clients_ids, cheqs_ids"
   ]
  },
  {
   "cell_type": "code",
   "execution_count": 102,
   "id": "ready-crossing",
   "metadata": {},
   "outputs": [],
   "source": [
    "filepath = 'json_data_target/target_data.json'\n",
    "target_sparse, _, _ = get_sparse_matrix_from_target(filepath, code_in)"
   ]
  },
  {
   "cell_type": "code",
   "execution_count": 103,
   "id": "assigned-parliament",
   "metadata": {},
   "outputs": [
    {
     "data": {
      "text/plain": [
       "<1000x5103 sparse matrix of type '<class 'numpy.float32'>'\n",
       "\twith 2344 stored elements in Compressed Sparse Row format>"
      ]
     },
     "execution_count": 103,
     "metadata": {},
     "output_type": "execute_result"
    }
   ],
   "source": [
    "target_sparse"
   ]
  },
  {
   "cell_type": "markdown",
   "id": "fifteen-thing",
   "metadata": {},
   "source": [
    "Реализуем предсказания:"
   ]
  },
  {
   "cell_type": "code",
   "execution_count": 104,
   "id": "confident-jungle",
   "metadata": {},
   "outputs": [],
   "source": [
    "predict_ALS_data = copy.deepcopy(test_data)"
   ]
  },
  {
   "cell_type": "code",
   "execution_count": 120,
   "id": "competent-sodium",
   "metadata": {},
   "outputs": [],
   "source": [
    "for cl_i in range(len(predict_ALS_data['clients'])):\n",
    "    sparse_row = target_sparse.getrow(cl_i)\n",
    "    predi = model_als.recommend(0,\n",
    "                                sparse_row,  # для данного клиента\n",
    "                                N=974,  # количество рекомендаций (возьмем количество всех целевых товаров)\n",
    "                                filter_already_liked_items=False,  # можно предлагать те же товары, что клиент уже покупал\n",
    "                                recalculate_user=True)  # пересчитываем эмбединги для нового клиента\n",
    "    predi_all = np.array([code_out[pr[0]] for pr in predi])  # рекомендации из всех товаров\n",
    "    predi_targ = predi_all[np.isin(np.array(predi_all), target_ids.values)]  # рекомендации из целевой группы\n",
    "    # заполнять будем теми товарами, которых нет в чеке клиента:\n",
    "    predi_targ = predi_targ[~np.isin(predi_targ, sparse_row.nonzero()[1])]\n",
    "    # если целевых рекомендованных меньше 20, то\n",
    "    # оставшиеся заполним наиболее популярными среди всех клиентов:\n",
    "    if predi_targ.shape[0] < 20:\n",
    "        unique_b20 = best20[~np.isin(best20, predi_targ)]\n",
    "        resi = np.hstack([predi_targ, unique_b20])[:20]\n",
    "    else:\n",
    "        resi = predi_targ[:20].copy()\n",
    "    # добавим рекомендации к пользователю:\n",
    "    predict_ALS_data['clients'][cl_i]['predict'] = resi.tolist()"
   ]
  },
  {
   "cell_type": "markdown",
   "id": "musical-martial",
   "metadata": {},
   "source": [
    "Проверим качество:"
   ]
  },
  {
   "cell_type": "code",
   "execution_count": 121,
   "id": "ruled-myanmar",
   "metadata": {},
   "outputs": [
    {
     "data": {
      "text/plain": [
       "8.345704948646125e-05"
      ]
     },
     "execution_count": 121,
     "metadata": {},
     "output_type": "execute_result"
    }
   ],
   "source": [
    "targets, predicts = [], []\n",
    "for client in predict_ALS_data['clients']:\n",
    "    targets.append(client['target'])\n",
    "    predicts.append(client['predict'])\n",
    "\n",
    "als_map = map20(targets, predicts)\n",
    "als_map"
   ]
  },
  {
   "cell_type": "markdown",
   "id": "executive-donor",
   "metadata": {},
   "source": [
    "Результат по метрике: $0.0000834$.\n",
    "\n",
    "Получили небольшое улучшение:"
   ]
  },
  {
   "cell_type": "code",
   "execution_count": 122,
   "id": "outside-bedroom",
   "metadata": {},
   "outputs": [
    {
     "data": {
      "text/plain": [
       "1.43"
      ]
     },
     "execution_count": 122,
     "metadata": {},
     "output_type": "execute_result"
    }
   ],
   "source": [
    "round(als_map / best20_map, 2)"
   ]
  },
  {
   "cell_type": "markdown",
   "id": "joined-vietnam",
   "metadata": {},
   "source": [
    "## Item2Item"
   ]
  },
  {
   "cell_type": "markdown",
   "id": "living-relief",
   "metadata": {},
   "source": [
    "Данный метод основан на рассчете \"похожести\" между купленными товарами. Для каждого товара будет составлен список тех товаров, которые наиболее часто покупают вместе с этим товаром. Похожесть рассчитывается на основании косинусного расстояния.\n",
    "\n",
    "Данный метод показывает себя хорошо в случае, когда товаров существенно меньше, чем клиентов, что справделиво в нашей задаче."
   ]
  },
  {
   "cell_type": "code",
   "execution_count": 123,
   "id": "alive-mountain",
   "metadata": {},
   "outputs": [],
   "source": [
    "model_i2i = implicit.nearest_neighbours.CosineRecommender(K=974)\n",
    "# K - количество похожих продуктов для каждого продукта в чеке клиента"
   ]
  },
  {
   "cell_type": "code",
   "execution_count": 124,
   "id": "orange-thickness",
   "metadata": {},
   "outputs": [
    {
     "data": {
      "application/vnd.jupyter.widget-view+json": {
       "model_id": "591ab025d26640e49026b7f4f3672a88",
       "version_major": 2,
       "version_minor": 0
      },
      "text/plain": [
       "HBox(children=(FloatProgress(value=0.0, max=5103.0), HTML(value='')))"
      ]
     },
     "metadata": {},
     "output_type": "display_data"
    },
    {
     "name": "stdout",
     "output_type": "stream",
     "text": [
      "\n"
     ]
    }
   ],
   "source": [
    "model_i2i.fit(train_sparse.T)"
   ]
  },
  {
   "cell_type": "markdown",
   "id": "employed-latest",
   "metadata": {},
   "source": [
    "Оценим качество результатов:"
   ]
  },
  {
   "cell_type": "code",
   "execution_count": 125,
   "id": "mineral-gazette",
   "metadata": {},
   "outputs": [],
   "source": [
    "predict_item2item_data = copy.deepcopy(test_data)"
   ]
  },
  {
   "cell_type": "code",
   "execution_count": 126,
   "id": "parental-yahoo",
   "metadata": {},
   "outputs": [],
   "source": [
    "for cl_i in range(len(predict_item2item_data['clients'])):\n",
    "    sparse_row = target_sparse.getrow(cl_i)\n",
    "    predi = model_i2i.recommend(0,\n",
    "                                sparse_row,  # для данного клиента\n",
    "                                N=974,  # количество рекомендаций (возьмем количество всех целевых товаров)\n",
    "                                filter_already_liked_items=False,  # можно предлагать те же товары, что клиент уже покупал\n",
    "                                recalculate_user=True)  # пересчитываем эмбединги для нового клиента\n",
    "    predi_all = np.array([code_out[pr[0]] for pr in predi])  # рекомендации из всех товаров\n",
    "    predi_targ = predi_all[np.isin(np.array(predi_all), target_ids.values)]  # рекомендации из целевой группы\n",
    "    # заполнять будем теми товарами, которых нет в чеке клиента:\n",
    "    predi_targ = predi_targ[~np.isin(predi_targ, sparse_row.nonzero()[1])]\n",
    "    # если целевых рекомендованных меньше 20, то\n",
    "    # оставшиеся заполним наиболее популярными среди всех клиентов:\n",
    "    if predi_targ.shape[0] < 20:\n",
    "        unique_b20 = best20[~np.isin(best20, predi_targ)]\n",
    "        resi = np.hstack([predi_targ, unique_b20])[:20]\n",
    "    else:\n",
    "        resi = predi_targ[:20].copy()\n",
    "    # добавим рекомендации к пользователю:\n",
    "    predict_item2item_data['clients'][cl_i]['predict'] = resi.tolist()"
   ]
  },
  {
   "cell_type": "code",
   "execution_count": 127,
   "id": "statistical-newfoundland",
   "metadata": {},
   "outputs": [
    {
     "data": {
      "text/plain": [
       "0.0001840079365079365"
      ]
     },
     "execution_count": 127,
     "metadata": {},
     "output_type": "execute_result"
    }
   ],
   "source": [
    "targets, predicts = [], []\n",
    "for client in predict_item2item_data['clients']:\n",
    "    targets.append(client['target'])\n",
    "    predicts.append(client['predict'])\n",
    "\n",
    "item2item_map = map20(targets, predicts)\n",
    "item2item_map"
   ]
  },
  {
   "cell_type": "markdown",
   "id": "promotional-emergency",
   "metadata": {},
   "source": [
    "Кратность прироста качества относительно baseline'а:"
   ]
  },
  {
   "cell_type": "code",
   "execution_count": 128,
   "id": "national-lobby",
   "metadata": {},
   "outputs": [
    {
     "data": {
      "text/plain": [
       "3.15"
      ]
     },
     "execution_count": 128,
     "metadata": {},
     "output_type": "execute_result"
    }
   ],
   "source": [
    "round(item2item_map / best20_map, 2)"
   ]
  },
  {
   "cell_type": "markdown",
   "id": "contemporary-ready",
   "metadata": {},
   "source": [
    "Параметр $K=974$ говорит, что для каждого товара, который покупает клиент, будут подобраны $974$ наиболее близких товара. А на стадии предсказания, из всех этих $974\\times$#, где # - количество товаров в чеке клиента, будут выбраны $N=974$ наилучших товаров (ближайших). Попробуем проварьировать количество соседей $K$ для каждого товара в чеке и посмотрим на результаты."
   ]
  },
  {
   "cell_type": "code",
   "execution_count": 129,
   "id": "smoking-monkey",
   "metadata": {},
   "outputs": [],
   "source": [
    "from tqdm.notebook import tqdm"
   ]
  },
  {
   "cell_type": "code",
   "execution_count": 130,
   "id": "certain-decision",
   "metadata": {},
   "outputs": [
    {
     "name": "stdout",
     "output_type": "stream",
     "text": [
      "Обучение моделей:\n"
     ]
    },
    {
     "data": {
      "application/vnd.jupyter.widget-view+json": {
       "model_id": "3a763abe06ce4f9bbc0090827afa00be",
       "version_major": 2,
       "version_minor": 0
      },
      "text/plain": [
       "HBox(children=(FloatProgress(value=0.0, max=50.0), HTML(value='')))"
      ]
     },
     "metadata": {},
     "output_type": "display_data"
    },
    {
     "name": "stdout",
     "output_type": "stream",
     "text": [
      "\n",
      "Построение предсказаний:\n"
     ]
    },
    {
     "data": {
      "application/vnd.jupyter.widget-view+json": {
       "model_id": "56603b3560804206854666c41af30786",
       "version_major": 2,
       "version_minor": 0
      },
      "text/plain": [
       "HBox(children=(FloatProgress(value=0.0, max=50.0), HTML(value='')))"
      ]
     },
     "metadata": {},
     "output_type": "display_data"
    },
    {
     "name": "stdout",
     "output_type": "stream",
     "text": [
      "\n"
     ]
    }
   ],
   "source": [
    "i2i_models = []\n",
    "ks = range(981, 0, -20)\n",
    "\n",
    "# обучение моделей:\n",
    "for k in ks:\n",
    "    i2i_models.append(implicit.nearest_neighbours.CosineRecommender(K=k))\n",
    "print('Обучение моделей:')\n",
    "for m in tqdm(i2i_models):\n",
    "    m.fit(train_sparse.T, show_progress=False)\n",
    "\n",
    "# предсказания:\n",
    "print('Построение предсказаний:')\n",
    "metric_values = []\n",
    "for m in tqdm(i2i_models):\n",
    "    predict_item2item_data = copy.deepcopy(test_data)\n",
    "    for cl_i in range(len(predict_item2item_data['clients'])):\n",
    "        sparse_row = target_sparse.getrow(cl_i)\n",
    "        predi = m.recommend(0,\n",
    "                            sparse_row.getrow(cl_i),\n",
    "                            N=974,\n",
    "                            filter_already_liked_items=False,\n",
    "                            recalculate_user=True)\n",
    "        predi_all = np.array([code_out[pr[0]] for pr in predi])\n",
    "        predi_targ = predi_all[np.isin(np.array(predi_all), target_ids.values)]\n",
    "        predi_targ = predi_targ[~np.isin(predi_targ, sparse_row.nonzero()[1])]\n",
    "        if predi_targ.shape[0] < 20:\n",
    "            unique_b20 = best20[~np.isin(best20, predi_targ)]\n",
    "            resi = np.hstack([predi_targ, unique_b20])[:20]\n",
    "        else:\n",
    "            resi = predi_targ[:20].copy()\n",
    "        predict_item2item_data['clients'][cl_i]['predict'] = resi.tolist()\n",
    "    \n",
    "    targets, predicts = [], []\n",
    "    for client in predict_item2item_data['clients']:\n",
    "        targets.append(client['target'])\n",
    "        predicts.append(client['predict'])\n",
    "    metric_values.append(map20(targets, predicts))"
   ]
  },
  {
   "cell_type": "markdown",
   "id": "stuffed-legend",
   "metadata": {},
   "source": [
    "Визуализация:"
   ]
  },
  {
   "cell_type": "code",
   "execution_count": 131,
   "id": "exposed-anatomy",
   "metadata": {},
   "outputs": [],
   "source": [
    "import matplotlib.pyplot as plt"
   ]
  },
  {
   "cell_type": "code",
   "execution_count": 132,
   "id": "painful-tumor",
   "metadata": {},
   "outputs": [],
   "source": [
    "l = len(metric_values)\n",
    "mmax = max(metric_values)\n",
    "max_m_index = np.argsort(np.array(metric_values))[-1]"
   ]
  },
  {
   "cell_type": "code",
   "execution_count": 133,
   "id": "contemporary-sitting",
   "metadata": {},
   "outputs": [
    {
     "data": {
      "image/png": "[encoded data removed]",
      "text/plain": [
       "<Figure size 648x432 with 1 Axes>"
      ]
     },
     "metadata": {
      "needs_background": "light"
     },
     "output_type": "display_data"
    }
   ],
   "source": [
    "fig, ax = plt.subplots(figsize=(9,6))\n",
    "ax.plot(range(l), metric_values)\n",
    "ax.plot(range(l), [mmax]*l, 'r--', color='orange',\n",
    "        label='m={}\\nK={}'.format(round(mmax,5), ks[max_m_index]))\n",
    "ax.set_title('Метрика качества для различных K', fontsize=15)\n",
    "ax.legend(fontsize=13)\n",
    "plt.tick_params(axis='x', which='both',\n",
    "                bottom=False, top=False, labelbottom=False)\n",
    "plt.show()"
   ]
  },
  {
   "cell_type": "markdown",
   "id": "disciplinary-violation",
   "metadata": {},
   "source": [
    "Воспользуемся данным параметром $K$ для построения основной модели:"
   ]
  },
  {
   "cell_type": "code",
   "execution_count": 134,
   "id": "suitable-clarity",
   "metadata": {
    "scrolled": true
   },
   "outputs": [
    {
     "data": {
      "application/vnd.jupyter.widget-view+json": {
       "model_id": "61247c8c7e5f43d7838e806a9ae6d00a",
       "version_major": 2,
       "version_minor": 0
      },
      "text/plain": [
       "HBox(children=(FloatProgress(value=0.0, max=5103.0), HTML(value='')))"
      ]
     },
     "metadata": {},
     "output_type": "display_data"
    },
    {
     "name": "stdout",
     "output_type": "stream",
     "text": [
      "\n"
     ]
    }
   ],
   "source": [
    "model_i2i = implicit.nearest_neighbours.CosineRecommender(K=ks[max_m_index])\n",
    "model_i2i.fit(train_sparse.T)"
   ]
  },
  {
   "cell_type": "code",
   "execution_count": 135,
   "id": "secure-guinea",
   "metadata": {},
   "outputs": [],
   "source": [
    "predict_item2item_data = copy.deepcopy(test_data)"
   ]
  },
  {
   "cell_type": "code",
   "execution_count": 145,
   "id": "committed-painting",
   "metadata": {},
   "outputs": [],
   "source": [
    "for cl_i in range(len(predict_item2item_data['clients'])):\n",
    "    sparse_row = target_sparse.getrow(cl_i)\n",
    "    predi = model_i2i.recommend(0,\n",
    "                                sparse_row,\n",
    "                                N=974,\n",
    "                                filter_already_liked_items=False,\n",
    "                                recalculate_user=True)\n",
    "    predi_all = np.array([code_out[pr[0]] for pr in predi])\n",
    "    predi_targ = predi_all[np.isin(predi_all, target_ids.values)]\n",
    "    predi_targ = predi_targ[~np.isin(predi_targ, sparse_row.nonzero()[1])]\n",
    "    if predi_targ.shape[0] < 20:\n",
    "        unique_b20 = best20[~np.isin(best20, predi_targ)]\n",
    "        resi = np.hstack([predi_targ, unique_b20])[:20]\n",
    "    else:\n",
    "        resi = predi_targ[:20].copy()\n",
    "    predict_item2item_data['clients'][cl_i]['predict'] = resi.tolist()"
   ]
  },
  {
   "cell_type": "code",
   "execution_count": 146,
   "id": "steady-convert",
   "metadata": {},
   "outputs": [
    {
     "data": {
      "text/plain": [
       "0.00019400793650793652"
      ]
     },
     "execution_count": 146,
     "metadata": {},
     "output_type": "execute_result"
    }
   ],
   "source": [
    "targets, predicts = [], []\n",
    "for client in predict_item2item_data['clients']:\n",
    "    targets.append(client['target'])\n",
    "    predicts.append(client['predict'])\n",
    "\n",
    "item2item_map = map20(targets, predicts)\n",
    "item2item_map"
   ]
  },
  {
   "cell_type": "markdown",
   "id": "effective-tribune",
   "metadata": {},
   "source": [
    "Кратность прироста:"
   ]
  },
  {
   "cell_type": "code",
   "execution_count": 147,
   "id": "spectacular-anniversary",
   "metadata": {
    "scrolled": true
   },
   "outputs": [
    {
     "data": {
      "text/plain": [
       "3.33"
      ]
     },
     "execution_count": 147,
     "metadata": {},
     "output_type": "execute_result"
    }
   ],
   "source": [
    "round(item2item_map / best20_map, 2)"
   ]
  },
  {
   "cell_type": "markdown",
   "id": "junior-academy",
   "metadata": {},
   "source": [
    "## User2User"
   ]
  },
  {
   "cell_type": "markdown",
   "id": "spoken-diploma",
   "metadata": {},
   "source": [
    "На самом деле здесь мы будем делать тоже самое, что делали при построении тестовых данных. Но в этот раз возьмем б**о**льшее количество соседей для одного клиента."
   ]
  },
  {
   "cell_type": "code",
   "execution_count": 148,
   "id": "amazing-nudist",
   "metadata": {},
   "outputs": [],
   "source": [
    "from sklearn.decomposition import TruncatedSVD"
   ]
  },
  {
   "cell_type": "code",
   "execution_count": 149,
   "id": "polish-morocco",
   "metadata": {},
   "outputs": [],
   "source": [
    "svd = TruncatedSVD(n_components=128)\n",
    "train_svd = svd.fit_transform(train_sparse)"
   ]
  },
  {
   "cell_type": "code",
   "execution_count": 150,
   "id": "republican-compensation",
   "metadata": {},
   "outputs": [],
   "source": [
    "test_svd = svd.transform(target_sparse)"
   ]
  },
  {
   "cell_type": "code",
   "execution_count": 151,
   "id": "negative-helen",
   "metadata": {},
   "outputs": [],
   "source": [
    "from sklearn.neighbors import NearestNeighbors"
   ]
  },
  {
   "cell_type": "code",
   "execution_count": 152,
   "id": "nervous-january",
   "metadata": {},
   "outputs": [],
   "source": [
    "neighbors_size = 256"
   ]
  },
  {
   "cell_type": "code",
   "execution_count": 153,
   "id": "compliant-cathedral",
   "metadata": {},
   "outputs": [
    {
     "data": {
      "text/plain": [
       "NearestNeighbors(metric='cosine', n_neighbors=256)"
      ]
     },
     "execution_count": 153,
     "metadata": {},
     "output_type": "execute_result"
    }
   ],
   "source": [
    "knn_model = NearestNeighbors(n_neighbors=neighbors_size, metric='cosine')\n",
    "knn_model.fit(train_svd)"
   ]
  },
  {
   "cell_type": "code",
   "execution_count": 154,
   "id": "included-hygiene",
   "metadata": {},
   "outputs": [],
   "source": [
    "predict_user2user_data = copy.deepcopy(test_data)"
   ]
  },
  {
   "cell_type": "code",
   "execution_count": 155,
   "id": "valid-enterprise",
   "metadata": {},
   "outputs": [
    {
     "data": {
      "application/vnd.jupyter.widget-view+json": {
       "model_id": "6c50a13b423443aa92f209a9dda92e55",
       "version_major": 2,
       "version_minor": 0
      },
      "text/plain": [
       "HBox(children=(FloatProgress(value=0.0, max=1000.0), HTML(value='')))"
      ]
     },
     "metadata": {},
     "output_type": "display_data"
    },
    {
     "name": "stdout",
     "output_type": "stream",
     "text": [
      "\n"
     ]
    }
   ],
   "source": [
    "for cl_i in tqdm(range(len(predict_user2user_data['clients']))):\n",
    "\n",
    "    # найдем соседей (клиентов, делающих похожие покупки) для\n",
    "    # конкретного клиента из тестовой выборки\n",
    "    neighs_ids = knn_model.kneighbors(test_svd[cl_i].reshape(1, -1),\n",
    "                                      n_neighbors=neighbors_size,\n",
    "                                      return_distance=False).tolist()[0]\n",
    "    # соберем все покупки соседей:\n",
    "    purchases = defaultdict(int)\n",
    "    for neigh_id in neighs_ids:\n",
    "        neigh = train_sparse.getrow(neigh_id)\n",
    "        nonzer_indexs = neigh.nonzero()\n",
    "        for key in nonzer_indexs[1]:\n",
    "            purchases[key] += 1\n",
    "    # отсортируем по количеству покупок:\n",
    "    sorted_p = np.array(sorted(purchases, key=lambda x: purchases[x], reverse=True))\n",
    "    # выберем целевые\n",
    "    predi_targ = sorted_p[np.isin(sorted_p, target_ids)]\n",
    "    # заполнять будем теми товарами, которых нет в чеке клиента:\n",
    "    sparse_row = target_sparse.getrow(cl_i)\n",
    "    predi_targ = predi_targ[~np.isin(predi_targ, sparse_row.nonzero()[1])]\n",
    "    # если количество меньше 20, то остальные\n",
    "    # заполним наиболее популярными среди всех клиентов:\n",
    "    if predi_targ.shape[0] < 20:\n",
    "        unique_b20 = best20[~np.isin(best20, predi_targ)]\n",
    "        resi = np.hstack([predi_targ, unique_b20])[:20]\n",
    "    else:\n",
    "        resi = predi_targ[:20].copy()\n",
    "    predict_user2user_data['clients'][cl_i]['predict'] = resi.tolist()"
   ]
  },
  {
   "cell_type": "markdown",
   "id": "nasty-stationery",
   "metadata": {},
   "source": [
    "Оценим качество результата:"
   ]
  },
  {
   "cell_type": "code",
   "execution_count": 156,
   "id": "improving-exhibit",
   "metadata": {},
   "outputs": [
    {
     "data": {
      "text/plain": [
       "8.08946608946609e-05"
      ]
     },
     "execution_count": 156,
     "metadata": {},
     "output_type": "execute_result"
    }
   ],
   "source": [
    "targets, predicts = [], []\n",
    "for client in predict_user2user_data['clients']:\n",
    "    targets.append(client['target'])\n",
    "    predicts.append(client['predict'])\n",
    "\n",
    "user2user_map = map20(targets, predicts)\n",
    "user2user_map"
   ]
  },
  {
   "cell_type": "markdown",
   "id": "ancient-samba",
   "metadata": {},
   "source": [
    "Кратность прироста:"
   ]
  },
  {
   "cell_type": "code",
   "execution_count": 157,
   "id": "multiple-testing",
   "metadata": {},
   "outputs": [
    {
     "data": {
      "text/plain": [
       "1.39"
      ]
     },
     "execution_count": 157,
     "metadata": {},
     "output_type": "execute_result"
    }
   ],
   "source": [
    "round(user2user_map / best20_map, 2)"
   ]
  },
  {
   "cell_type": "markdown",
   "id": "biological-naples",
   "metadata": {},
   "source": [
    "Посмотрим на динамику качетсва при уменьшении числа соседей:"
   ]
  },
  {
   "cell_type": "code",
   "execution_count": 158,
   "id": "stainless-daughter",
   "metadata": {
    "scrolled": true
   },
   "outputs": [
    {
     "data": {
      "application/vnd.jupyter.widget-view+json": {
       "model_id": "41c976f456c14f7b8384504fdbb915c5",
       "version_major": 2,
       "version_minor": 0
      },
      "text/plain": [
       "HBox(children=(FloatProgress(value=0.0, max=10.0), HTML(value='')))"
      ]
     },
     "metadata": {},
     "output_type": "display_data"
    },
    {
     "data": {
      "application/vnd.jupyter.widget-view+json": {
       "model_id": "6da6ab20eb7741d5929bd76a33af0cd4",
       "version_major": 2,
       "version_minor": 0
      },
      "text/plain": [
       "HBox(children=(FloatProgress(value=0.0, max=1000.0), HTML(value='')))"
      ]
     },
     "metadata": {},
     "output_type": "display_data"
    },
    {
     "name": "stdout",
     "output_type": "stream",
     "text": [
      "\n"
     ]
    },
    {
     "data": {
      "application/vnd.jupyter.widget-view+json": {
       "model_id": "037cc497fec3412597ff5c95508fa607",
       "version_major": 2,
       "version_minor": 0
      },
      "text/plain": [
       "HBox(children=(FloatProgress(value=0.0, max=1000.0), HTML(value='')))"
      ]
     },
     "metadata": {},
     "output_type": "display_data"
    },
    {
     "name": "stdout",
     "output_type": "stream",
     "text": [
      "\n"
     ]
    },
    {
     "data": {
      "application/vnd.jupyter.widget-view+json": {
       "model_id": "6d27596866d34ec38d958bdb6e6aed0c",
       "version_major": 2,
       "version_minor": 0
      },
      "text/plain": [
       "HBox(children=(FloatProgress(value=0.0, max=1000.0), HTML(value='')))"
      ]
     },
     "metadata": {},
     "output_type": "display_data"
    },
    {
     "name": "stdout",
     "output_type": "stream",
     "text": [
      "\n"
     ]
    },
    {
     "data": {
      "application/vnd.jupyter.widget-view+json": {
       "model_id": "6af2d9104692425bbcd3a3d9e113ec06",
       "version_major": 2,
       "version_minor": 0
      },
      "text/plain": [
       "HBox(children=(FloatProgress(value=0.0, max=1000.0), HTML(value='')))"
      ]
     },
     "metadata": {},
     "output_type": "display_data"
    },
    {
     "name": "stdout",
     "output_type": "stream",
     "text": [
      "\n"
     ]
    },
    {
     "data": {
      "application/vnd.jupyter.widget-view+json": {
       "model_id": "6ffa561cbac64e3db9a052d2f25f827f",
       "version_major": 2,
       "version_minor": 0
      },
      "text/plain": [
       "HBox(children=(FloatProgress(value=0.0, max=1000.0), HTML(value='')))"
      ]
     },
     "metadata": {},
     "output_type": "display_data"
    },
    {
     "name": "stdout",
     "output_type": "stream",
     "text": [
      "\n"
     ]
    },
    {
     "data": {
      "application/vnd.jupyter.widget-view+json": {
       "model_id": "387fd7f6ebc042f5b4da8b887906d2dc",
       "version_major": 2,
       "version_minor": 0
      },
      "text/plain": [
       "HBox(children=(FloatProgress(value=0.0, max=1000.0), HTML(value='')))"
      ]
     },
     "metadata": {},
     "output_type": "display_data"
    },
    {
     "name": "stdout",
     "output_type": "stream",
     "text": [
      "\n"
     ]
    },
    {
     "data": {
      "application/vnd.jupyter.widget-view+json": {
       "model_id": "15161d4ced044745b5982d4748d73010",
       "version_major": 2,
       "version_minor": 0
      },
      "text/plain": [
       "HBox(children=(FloatProgress(value=0.0, max=1000.0), HTML(value='')))"
      ]
     },
     "metadata": {},
     "output_type": "display_data"
    },
    {
     "name": "stdout",
     "output_type": "stream",
     "text": [
      "\n"
     ]
    },
    {
     "data": {
      "application/vnd.jupyter.widget-view+json": {
       "model_id": "7fee7377b72a4818a5fb371f14345a1b",
       "version_major": 2,
       "version_minor": 0
      },
      "text/plain": [
       "HBox(children=(FloatProgress(value=0.0, max=1000.0), HTML(value='')))"
      ]
     },
     "metadata": {},
     "output_type": "display_data"
    },
    {
     "name": "stdout",
     "output_type": "stream",
     "text": [
      "\n"
     ]
    },
    {
     "data": {
      "application/vnd.jupyter.widget-view+json": {
       "model_id": "21a9a213ae364b249d49213a68a1ec22",
       "version_major": 2,
       "version_minor": 0
      },
      "text/plain": [
       "HBox(children=(FloatProgress(value=0.0, max=1000.0), HTML(value='')))"
      ]
     },
     "metadata": {},
     "output_type": "display_data"
    },
    {
     "name": "stdout",
     "output_type": "stream",
     "text": [
      "\n"
     ]
    },
    {
     "data": {
      "application/vnd.jupyter.widget-view+json": {
       "model_id": "3ac94e43cd504eb9a13f4052e8755f42",
       "version_major": 2,
       "version_minor": 0
      },
      "text/plain": [
       "HBox(children=(FloatProgress(value=0.0, max=1000.0), HTML(value='')))"
      ]
     },
     "metadata": {},
     "output_type": "display_data"
    },
    {
     "name": "stdout",
     "output_type": "stream",
     "text": [
      "\n",
      "\n"
     ]
    }
   ],
   "source": [
    "ks = [256, 200, 128, 90, 64, 32, 25, 16, 8, 4]\n",
    "metr_vals = []\n",
    "for k in tqdm(ks):\n",
    "    # модель:\n",
    "    neighbors_size = k\n",
    "    knn_model = NearestNeighbors(n_neighbors=neighbors_size, metric='cosine')\n",
    "    knn_model.fit(train_svd)\n",
    "    # предсказание:\n",
    "    predict_user2user_models_data = copy.deepcopy(test_data)\n",
    "    for cl_i in tqdm(range(len(predict_user2user_data['clients']))):\n",
    "        neighs_ids = knn_model.kneighbors(test_svd[cl_i].reshape(1, -1),\n",
    "                                          n_neighbors=neighbors_size,\n",
    "                                          return_distance=False).tolist()[0]\n",
    "        purchases = defaultdict(int)\n",
    "        for neigh_id in neighs_ids:\n",
    "            neigh = train_sparse.getrow(neigh_id)\n",
    "            nonzer_indexs = neigh.nonzero()\n",
    "            for key in nonzer_indexs[1]:\n",
    "                purchases[key] += 1\n",
    "        sorted_p = np.array(sorted(purchases, key=lambda x: purchases[x], reverse=True))\n",
    "        predi_targ = sorted_p[np.isin(sorted_p, target_ids)]\n",
    "        if predi_targ.shape[0] < 20:\n",
    "            unique_b20 = best20[~np.isin(best20, predi_targ)]\n",
    "            resi = np.hstack([predi_targ, unique_b20])[:20]\n",
    "        else:\n",
    "            resi = predi_targ[:20].copy()\n",
    "        predict_user2user_models_data['clients'][cl_i]['predict'] = resi.tolist()\n",
    "    # метрика:\n",
    "    targets, predicts = [], []\n",
    "    for client in predict_user2user_models_data['clients']:\n",
    "        targets.append(client['target'])\n",
    "        predicts.append(client['predict'])\n",
    "\n",
    "    metr_vals.append(map20(targets, predicts))"
   ]
  },
  {
   "cell_type": "code",
   "execution_count": 163,
   "id": "boxed-tissue",
   "metadata": {},
   "outputs": [],
   "source": [
    "l_u2u = len(metr_vals)\n",
    "u2u_max = max(metr_vals)\n",
    "u2u_max_m_index = np.argsort(np.array(metr_vals))[-1]"
   ]
  },
  {
   "cell_type": "code",
   "execution_count": 167,
   "id": "optical-teacher",
   "metadata": {},
   "outputs": [
    {
     "data": {
      "image/png": "[encoded data removed]",
      "text/plain": [
       "<Figure size 648x432 with 1 Axes>"
      ]
     },
     "metadata": {
      "needs_background": "light"
     },
     "output_type": "display_data"
    }
   ],
   "source": [
    "fig, ax = plt.subplots(figsize=(9,6))\n",
    "ax.plot(range(l_u2u), metr_vals)\n",
    "ax.set_title('Метрика качества для различных K', fontsize=15)\n",
    "ax.plot(range(l_u2u), [u2u_max]*l_u2u, 'r--', color='orange',\n",
    "        label='m={}\\nK={}'.format(round(u2u_max,5), ks[u2u_max_m_index]))\n",
    "ax.legend(fontsize=13)\n",
    "plt.tick_params(axis='x', which='both',\n",
    "                bottom=False, top=False, labelbottom=False)\n",
    "plt.show()"
   ]
  },
  {
   "cell_type": "markdown",
   "id": "latter-craps",
   "metadata": {},
   "source": [
    "При меньшем количестве соседей метрика принимает более высокое значение, но все еще слишком маленькое отностиельно модели Item2Item."
   ]
  },
  {
   "cell_type": "code",
   "execution_count": 168,
   "id": "distant-first",
   "metadata": {},
   "outputs": [
    {
     "data": {
      "text/plain": [
       "0.00011527777777777778"
      ]
     },
     "execution_count": 168,
     "metadata": {},
     "output_type": "execute_result"
    }
   ],
   "source": [
    "u2u_max"
   ]
  },
  {
   "cell_type": "code",
   "execution_count": 169,
   "id": "processed-network",
   "metadata": {},
   "outputs": [
    {
     "data": {
      "text/plain": [
       "1.98"
      ]
     },
     "execution_count": 169,
     "metadata": {},
     "output_type": "execute_result"
    }
   ],
   "source": [
    "round(u2u_max / best20_map, 2)"
   ]
  },
  {
   "cell_type": "markdown",
   "id": "outside-agriculture",
   "metadata": {},
   "source": [
    "**Результаты по первым моделям**"
   ]
  },
  {
   "cell_type": "markdown",
   "id": "related-mailing",
   "metadata": {},
   "source": [
    "Модель|Метрика|Коэффициент прироста относительно Baseline\n",
    ":-:|:-:|:-:\n",
    "Baseline|$0.000058$|$-$\n",
    "ALS|$0.000083$|$1.43$\n",
    "Item2Item|$0.000194$|$3.33$\n",
    "User2User|$0.000115$|$1.98$\n",
    "\n",
    "Модель Item2Item показала наилучший результат среди остальных.\n",
    "\n",
    "Функцию `get_sparse_matrix_from_target` сохраним в файл `data_preprocessing.py`. И также модель Item2Item реализуем в отдельном файле `i2i.py`."
   ]
  },
  {
   "cell_type": "code",
   "execution_count": null,
   "id": "incomplete-amber",
   "metadata": {},
   "outputs": [],
   "source": []
  }
 ],
 "metadata": {
  "kernelspec": {
   "display_name": "Python 3",
   "language": "python",
   "name": "python3"
  },
  "language_info": {
   "codemirror_mode": {
    "name": "ipython",
    "version": 3
   },
   "file_extension": ".py",
   "mimetype": "text/x-python",
   "name": "python",
   "nbconvert_exporter": "python",
   "pygments_lexer": "ipython3",
   "version": "3.7.9"
  }
 },
 "nbformat": 4,
 "nbformat_minor": 5
}
