{
 "cells": [
  {
   "cell_type": "markdown",
   "id": "neutral-disclaimer",
   "metadata": {},
   "source": [
    "## Загрузка и подготовка данных"
   ]
  },
  {
   "cell_type": "code",
   "execution_count": 1,
   "id": "hollywood-antarctica",
   "metadata": {},
   "outputs": [],
   "source": [
    "import pandas as pd\n",
    "import numpy as np\n",
    "from data_preprocessing import get_sparse_matrix, get_json"
   ]
  },
  {
   "cell_type": "markdown",
   "id": "satisfied-consistency",
   "metadata": {},
   "source": [
    "**Данные о товарах**"
   ]
  },
  {
   "cell_type": "code",
   "execution_count": 2,
   "id": "alone-pilot",
   "metadata": {},
   "outputs": [],
   "source": [
    "nom = pd.read_parquet('data/nomenclature.parquet')  # номенклатура"
   ]
  },
  {
   "cell_type": "code",
   "execution_count": 3,
   "id": "clinical-beach",
   "metadata": {},
   "outputs": [],
   "source": [
    "target_types_nom = {'Соки и сокосодержащие напитки', 'Снеки', 'Вода',\n",
    "                    'Сладкие Уранированные напитки, холодный чай',\n",
    "                    'Кофейные напитки с молоком', 'Энергетические напитки'}\n",
    "\n",
    "target_ids = nom.sku_id[nom.sku_group.isin(target_types_nom)]\n",
    "\n",
    "code_in = {indx:nom.sku_id.iloc[indx] for indx in nom.sku_id.index}\n",
    "code_out = {nom.sku_id.iloc[indx]:indx for indx in nom.sku_id.index}"
   ]
  },
  {
   "cell_type": "code",
   "execution_count": 4,
   "id": "seasonal-hayes",
   "metadata": {},
   "outputs": [],
   "source": [
    "del nom"
   ]
  },
  {
   "cell_type": "markdown",
   "id": "vertical-terrace",
   "metadata": {},
   "source": [
    "**Тренировочные данные для Item2Item**"
   ]
  },
  {
   "cell_type": "code",
   "execution_count": 5,
   "id": "fifteen-hello",
   "metadata": {},
   "outputs": [
    {
     "data": {
      "application/vnd.jupyter.widget-view+json": {
       "model_id": "efc4d9ac5a6040a6812474b1ce3794a5",
       "version_major": 2,
       "version_minor": 0
      },
      "text/plain": [
       "HBox(children=(FloatProgress(value=0.0, max=10.0), HTML(value='')))"
      ]
     },
     "metadata": {},
     "output_type": "display_data"
    },
    {
     "name": "stdout",
     "output_type": "stream",
     "text": [
      "\n"
     ]
    }
   ],
   "source": [
    "train_sparse, _, _ = get_sparse_matrix('json_data_train', code_in)"
   ]
  },
  {
   "cell_type": "markdown",
   "id": "associate-square",
   "metadata": {},
   "source": [
    "**Тренировочные данные для модели Байеса**"
   ]
  },
  {
   "cell_type": "code",
   "execution_count": 6,
   "id": "unauthorized-wallace",
   "metadata": {},
   "outputs": [
    {
     "data": {
      "application/vnd.jupyter.widget-view+json": {
       "model_id": "b628e7749b1543d09c0f485b6eb5f299",
       "version_major": 2,
       "version_minor": 0
      },
      "text/plain": [
       "HBox(children=(FloatProgress(value=0.0, max=20.0), HTML(value='')))"
      ]
     },
     "metadata": {},
     "output_type": "display_data"
    },
    {
     "name": "stdout",
     "output_type": "stream",
     "text": [
      "\n"
     ]
    }
   ],
   "source": [
    "train_known_sparse, train_known_ids, _ = get_sparse_matrix('json_data_known_clients', code_in)"
   ]
  },
  {
   "cell_type": "markdown",
   "id": "closing-french",
   "metadata": {},
   "source": [
    "**Валидационные данные**"
   ]
  },
  {
   "cell_type": "code",
   "execution_count": 7,
   "id": "plastic-punch",
   "metadata": {},
   "outputs": [],
   "source": [
    "subm = pd.read_parquet('data/transactions-for_submission.parquet')"
   ]
  },
  {
   "cell_type": "code",
   "execution_count": 8,
   "id": "worst-acoustic",
   "metadata": {},
   "outputs": [],
   "source": [
    "subm_grouped_by_cheq = subm.groupby('cheque_id')"
   ]
  },
  {
   "cell_type": "code",
   "execution_count": 9,
   "id": "fifty-ocean",
   "metadata": {},
   "outputs": [],
   "source": [
    "subm_groups_names = list(subm_grouped_by_cheq.indices.keys())"
   ]
  },
  {
   "cell_type": "code",
   "execution_count": 10,
   "id": "equipped-letters",
   "metadata": {
    "scrolled": true
   },
   "outputs": [
    {
     "data": {
      "application/vnd.jupyter.widget-view+json": {
       "model_id": "e6b8bf128dfb4cc6a9f6c250e60c8d13",
       "version_major": 2,
       "version_minor": 0
      },
      "text/plain": [
       "HBox(children=(FloatProgress(value=0.0, max=20.0), HTML(value='')))"
      ]
     },
     "metadata": {},
     "output_type": "display_data"
    },
    {
     "data": {
      "application/vnd.jupyter.widget-view+json": {
       "model_id": "232356a1ed45478f9709f1a230fc0295",
       "version_major": 2,
       "version_minor": 0
      },
      "text/plain": [
       "HBox(children=(FloatProgress(value=0.0, max=15762.0), HTML(value='')))"
      ]
     },
     "metadata": {},
     "output_type": "display_data"
    },
    {
     "name": "stdout",
     "output_type": "stream",
     "text": [
      "\n"
     ]
    },
    {
     "data": {
      "application/vnd.jupyter.widget-view+json": {
       "model_id": "0594f069caf0428dbb3ab57c04483af8",
       "version_major": 2,
       "version_minor": 0
      },
      "text/plain": [
       "HBox(children=(FloatProgress(value=0.0, max=15762.0), HTML(value='')))"
      ]
     },
     "metadata": {},
     "output_type": "display_data"
    },
    {
     "name": "stdout",
     "output_type": "stream",
     "text": [
      "\n"
     ]
    },
    {
     "data": {
      "application/vnd.jupyter.widget-view+json": {
       "model_id": "86f048c7110844939a6063a17a5fb5e7",
       "version_major": 2,
       "version_minor": 0
      },
      "text/plain": [
       "HBox(children=(FloatProgress(value=0.0, max=15762.0), HTML(value='')))"
      ]
     },
     "metadata": {},
     "output_type": "display_data"
    },
    {
     "name": "stdout",
     "output_type": "stream",
     "text": [
      "\n"
     ]
    },
    {
     "data": {
      "application/vnd.jupyter.widget-view+json": {
       "model_id": "026ef05c9cc1417fbbd53eb3d1491fae",
       "version_major": 2,
       "version_minor": 0
      },
      "text/plain": [
       "HBox(children=(FloatProgress(value=0.0, max=15762.0), HTML(value='')))"
      ]
     },
     "metadata": {},
     "output_type": "display_data"
    },
    {
     "name": "stdout",
     "output_type": "stream",
     "text": [
      "\n"
     ]
    },
    {
     "data": {
      "application/vnd.jupyter.widget-view+json": {
       "model_id": "e72a221b81f14159832704f494a9dd3f",
       "version_major": 2,
       "version_minor": 0
      },
      "text/plain": [
       "HBox(children=(FloatProgress(value=0.0, max=15762.0), HTML(value='')))"
      ]
     },
     "metadata": {},
     "output_type": "display_data"
    },
    {
     "name": "stdout",
     "output_type": "stream",
     "text": [
      "\n"
     ]
    },
    {
     "data": {
      "application/vnd.jupyter.widget-view+json": {
       "model_id": "14771e29f0ed4e689d5e21182176a308",
       "version_major": 2,
       "version_minor": 0
      },
      "text/plain": [
       "HBox(children=(FloatProgress(value=0.0, max=15762.0), HTML(value='')))"
      ]
     },
     "metadata": {},
     "output_type": "display_data"
    },
    {
     "name": "stdout",
     "output_type": "stream",
     "text": [
      "\n"
     ]
    },
    {
     "data": {
      "application/vnd.jupyter.widget-view+json": {
       "model_id": "ef857748740c47328f2e8c3db0bf9dc6",
       "version_major": 2,
       "version_minor": 0
      },
      "text/plain": [
       "HBox(children=(FloatProgress(value=0.0, max=15762.0), HTML(value='')))"
      ]
     },
     "metadata": {},
     "output_type": "display_data"
    },
    {
     "name": "stdout",
     "output_type": "stream",
     "text": [
      "\n"
     ]
    },
    {
     "data": {
      "application/vnd.jupyter.widget-view+json": {
       "model_id": "94d7ed67d27f4b1ebe28d772ab3124bb",
       "version_major": 2,
       "version_minor": 0
      },
      "text/plain": [
       "HBox(children=(FloatProgress(value=0.0, max=15762.0), HTML(value='')))"
      ]
     },
     "metadata": {},
     "output_type": "display_data"
    },
    {
     "name": "stdout",
     "output_type": "stream",
     "text": [
      "\n"
     ]
    },
    {
     "data": {
      "application/vnd.jupyter.widget-view+json": {
       "model_id": "d8fe588cdbab4562aa9ab79913bd9ae6",
       "version_major": 2,
       "version_minor": 0
      },
      "text/plain": [
       "HBox(children=(FloatProgress(value=0.0, max=15762.0), HTML(value='')))"
      ]
     },
     "metadata": {},
     "output_type": "display_data"
    },
    {
     "name": "stdout",
     "output_type": "stream",
     "text": [
      "\n"
     ]
    },
    {
     "data": {
      "application/vnd.jupyter.widget-view+json": {
       "model_id": "5ef0a8687cf64092b387c98396b45325",
       "version_major": 2,
       "version_minor": 0
      },
      "text/plain": [
       "HBox(children=(FloatProgress(value=0.0, max=15762.0), HTML(value='')))"
      ]
     },
     "metadata": {},
     "output_type": "display_data"
    },
    {
     "name": "stdout",
     "output_type": "stream",
     "text": [
      "\n"
     ]
    },
    {
     "data": {
      "application/vnd.jupyter.widget-view+json": {
       "model_id": "de15ac941e05426a898dfe452853eccf",
       "version_major": 2,
       "version_minor": 0
      },
      "text/plain": [
       "HBox(children=(FloatProgress(value=0.0, max=15762.0), HTML(value='')))"
      ]
     },
     "metadata": {},
     "output_type": "display_data"
    },
    {
     "name": "stdout",
     "output_type": "stream",
     "text": [
      "\n"
     ]
    },
    {
     "data": {
      "application/vnd.jupyter.widget-view+json": {
       "model_id": "19ab7e6b18f94c29896ea2c16917405b",
       "version_major": 2,
       "version_minor": 0
      },
      "text/plain": [
       "HBox(children=(FloatProgress(value=0.0, max=15762.0), HTML(value='')))"
      ]
     },
     "metadata": {},
     "output_type": "display_data"
    },
    {
     "name": "stdout",
     "output_type": "stream",
     "text": [
      "\n"
     ]
    },
    {
     "data": {
      "application/vnd.jupyter.widget-view+json": {
       "model_id": "89e949c85e5f4cb1bf6d171bd7d7bef6",
       "version_major": 2,
       "version_minor": 0
      },
      "text/plain": [
       "HBox(children=(FloatProgress(value=0.0, max=15762.0), HTML(value='')))"
      ]
     },
     "metadata": {},
     "output_type": "display_data"
    },
    {
     "name": "stdout",
     "output_type": "stream",
     "text": [
      "\n"
     ]
    },
    {
     "data": {
      "application/vnd.jupyter.widget-view+json": {
       "model_id": "c08da6a89a0b41caad512f14bd996b7d",
       "version_major": 2,
       "version_minor": 0
      },
      "text/plain": [
       "HBox(children=(FloatProgress(value=0.0, max=15762.0), HTML(value='')))"
      ]
     },
     "metadata": {},
     "output_type": "display_data"
    },
    {
     "name": "stdout",
     "output_type": "stream",
     "text": [
      "\n"
     ]
    },
    {
     "data": {
      "application/vnd.jupyter.widget-view+json": {
       "model_id": "8ea93795b04142d0977e98bfd33acb99",
       "version_major": 2,
       "version_minor": 0
      },
      "text/plain": [
       "HBox(children=(FloatProgress(value=0.0, max=15762.0), HTML(value='')))"
      ]
     },
     "metadata": {},
     "output_type": "display_data"
    },
    {
     "name": "stdout",
     "output_type": "stream",
     "text": [
      "\n"
     ]
    },
    {
     "data": {
      "application/vnd.jupyter.widget-view+json": {
       "model_id": "f3c4b327f6c3464eaaf3ec64d0b76868",
       "version_major": 2,
       "version_minor": 0
      },
      "text/plain": [
       "HBox(children=(FloatProgress(value=0.0, max=15762.0), HTML(value='')))"
      ]
     },
     "metadata": {},
     "output_type": "display_data"
    },
    {
     "name": "stdout",
     "output_type": "stream",
     "text": [
      "\n"
     ]
    },
    {
     "data": {
      "application/vnd.jupyter.widget-view+json": {
       "model_id": "1844b66e065540cf92cafa7b3b387466",
       "version_major": 2,
       "version_minor": 0
      },
      "text/plain": [
       "HBox(children=(FloatProgress(value=0.0, max=15762.0), HTML(value='')))"
      ]
     },
     "metadata": {},
     "output_type": "display_data"
    },
    {
     "name": "stdout",
     "output_type": "stream",
     "text": [
      "\n"
     ]
    },
    {
     "data": {
      "application/vnd.jupyter.widget-view+json": {
       "model_id": "d362d9839bea403aa2dd94c6cf0549a4",
       "version_major": 2,
       "version_minor": 0
      },
      "text/plain": [
       "HBox(children=(FloatProgress(value=0.0, max=15762.0), HTML(value='')))"
      ]
     },
     "metadata": {},
     "output_type": "display_data"
    },
    {
     "name": "stdout",
     "output_type": "stream",
     "text": [
      "\n"
     ]
    },
    {
     "data": {
      "application/vnd.jupyter.widget-view+json": {
       "model_id": "4e4242478557458db875d85ac7810b8c",
       "version_major": 2,
       "version_minor": 0
      },
      "text/plain": [
       "HBox(children=(FloatProgress(value=0.0, max=15762.0), HTML(value='')))"
      ]
     },
     "metadata": {},
     "output_type": "display_data"
    },
    {
     "name": "stdout",
     "output_type": "stream",
     "text": [
      "\n"
     ]
    },
    {
     "data": {
      "application/vnd.jupyter.widget-view+json": {
       "model_id": "ed7f9c2dfd604ceb85b131cfe007c250",
       "version_major": 2,
       "version_minor": 0
      },
      "text/plain": [
       "HBox(children=(FloatProgress(value=0.0, max=15750.0), HTML(value='')))"
      ]
     },
     "metadata": {},
     "output_type": "display_data"
    },
    {
     "name": "stdout",
     "output_type": "stream",
     "text": [
      "\n",
      "\n"
     ]
    },
    {
     "data": {
      "text/plain": [
       "0"
      ]
     },
     "execution_count": 10,
     "metadata": {},
     "output_type": "execute_result"
    }
   ],
   "source": [
    "# get_json(subm_grouped_by_cheq, subm_groups_names, foldername='validation', n=20)"
   ]
  },
  {
   "cell_type": "code",
   "execution_count": null,
   "id": "comparative-oracle",
   "metadata": {},
   "outputs": [],
   "source": [
    "del subm\n",
    "del subm_grouped_by_cheq\n",
    "del subm_groups_names"
   ]
  },
  {
   "cell_type": "code",
   "execution_count": 7,
   "id": "pretty-broadcasting",
   "metadata": {},
   "outputs": [
    {
     "data": {
      "application/vnd.jupyter.widget-view+json": {
       "model_id": "9db34df00cd64a6d9cc3e4f396be7e36",
       "version_major": 2,
       "version_minor": 0
      },
      "text/plain": [
       "HBox(children=(FloatProgress(value=0.0, max=20.0), HTML(value='')))"
      ]
     },
     "metadata": {},
     "output_type": "display_data"
    },
    {
     "name": "stdout",
     "output_type": "stream",
     "text": [
      "\n"
     ]
    }
   ],
   "source": [
    "val_sparse, val_cl_ids, val_cheqs_ids = get_sparse_matrix('json_data_validation', code_in)"
   ]
  },
  {
   "cell_type": "markdown",
   "id": "bored-discipline",
   "metadata": {},
   "source": [
    "## Применение моделей"
   ]
  },
  {
   "cell_type": "code",
   "execution_count": 8,
   "id": "offshore-spectrum",
   "metadata": {},
   "outputs": [],
   "source": [
    "import implicit"
   ]
  },
  {
   "cell_type": "markdown",
   "id": "second-edward",
   "metadata": {},
   "source": [
    "**Item2Item**"
   ]
  },
  {
   "cell_type": "code",
   "execution_count": 9,
   "id": "incoming-gilbert",
   "metadata": {},
   "outputs": [],
   "source": [
    "from i2i import I2I"
   ]
  },
  {
   "cell_type": "markdown",
   "id": "sufficient-duplicate",
   "metadata": {},
   "source": [
    "Обучение модели:"
   ]
  },
  {
   "cell_type": "code",
   "execution_count": 58,
   "id": "thermal-nitrogen",
   "metadata": {},
   "outputs": [],
   "source": [
    "model_i2i = I2I(list(target_ids), code_in, code_out)"
   ]
  },
  {
   "cell_type": "code",
   "execution_count": 59,
   "id": "verbal-chuck",
   "metadata": {},
   "outputs": [
    {
     "data": {
      "application/vnd.jupyter.widget-view+json": {
       "model_id": "63277aa51e274d44921689e4324892ec",
       "version_major": 2,
       "version_minor": 0
      },
      "text/plain": [
       "HBox(children=(FloatProgress(value=0.0, max=5103.0), HTML(value='')))"
      ]
     },
     "metadata": {},
     "output_type": "display_data"
    },
    {
     "name": "stdout",
     "output_type": "stream",
     "text": [
      "\n"
     ]
    }
   ],
   "source": [
    "model_i2i.fit(train_sparse)"
   ]
  },
  {
   "cell_type": "markdown",
   "id": "emerging-jewel",
   "metadata": {},
   "source": [
    "Применение модели:"
   ]
  },
  {
   "cell_type": "code",
   "execution_count": 60,
   "id": "minus-screening",
   "metadata": {},
   "outputs": [],
   "source": [
    "from tqdm.notebook import tqdm"
   ]
  },
  {
   "cell_type": "code",
   "execution_count": 61,
   "id": "military-gnome",
   "metadata": {},
   "outputs": [
    {
     "data": {
      "application/vnd.jupyter.widget-view+json": {
       "model_id": "b821d82395fd4205a113da5175bd41b7",
       "version_major": 2,
       "version_minor": 0
      },
      "text/plain": [
       "HBox(children=(FloatProgress(value=0.0, max=315228.0), HTML(value='')))"
      ]
     },
     "metadata": {},
     "output_type": "display_data"
    },
    {
     "name": "stdout",
     "output_type": "stream",
     "text": [
      "\n"
     ]
    }
   ],
   "source": [
    "subm_i2i_res = {'cheque_id':[], 'sku_id':[], 'position':[]}\n",
    "\n",
    "for cl_i in tqdm(range(val_sparse.shape[0])):\n",
    "    pred_i = model_i2i.predict(val_sparse[cl_i])\n",
    "    pos = 1\n",
    "    for sku in pred_i:\n",
    "        subm_i2i_res['cheque_id'].append(val_cheqs_ids[cl_i])\n",
    "        subm_i2i_res['sku_id'].append(sku)\n",
    "        subm_i2i_res['position'].append(pos)\n",
    "        pos += 1\n",
    "        \n",
    "results_i2i = pd.DataFrame(subm_i2i_res, dtype=np.int64)"
   ]
  },
  {
   "cell_type": "markdown",
   "id": "single-indie",
   "metadata": {},
   "source": [
    "Сохранение результатов:"
   ]
  },
  {
   "cell_type": "code",
   "execution_count": 62,
   "id": "fleet-mistake",
   "metadata": {},
   "outputs": [],
   "source": [
    "import os"
   ]
  },
  {
   "cell_type": "code",
   "execution_count": 63,
   "id": "fabulous-moore",
   "metadata": {},
   "outputs": [],
   "source": [
    "# создание папки для сохранения результатов\n",
    "if not 'results' in os.listdir():\n",
    "        os.mkdir('results')"
   ]
  },
  {
   "cell_type": "code",
   "execution_count": 64,
   "id": "annoying-pottery",
   "metadata": {},
   "outputs": [],
   "source": [
    "# results_i2i.to_parquet(path='results/submission-Skibin_Maxim_I2I_new')"
   ]
  },
  {
   "cell_type": "markdown",
   "id": "medium-illinois",
   "metadata": {},
   "source": [
    "**BI2I**"
   ]
  },
  {
   "cell_type": "code",
   "execution_count": 65,
   "id": "instructional-chassis",
   "metadata": {},
   "outputs": [],
   "source": [
    "from bi2i import BI2I"
   ]
  },
  {
   "cell_type": "markdown",
   "id": "expensive-audio",
   "metadata": {},
   "source": [
    "Обучение модели:"
   ]
  },
  {
   "cell_type": "code",
   "execution_count": 66,
   "id": "unknown-while",
   "metadata": {},
   "outputs": [],
   "source": [
    "model_bi2i = BI2I(train_known_ids, target_ids, code_in, code_out)"
   ]
  },
  {
   "cell_type": "code",
   "execution_count": 67,
   "id": "unauthorized-squad",
   "metadata": {},
   "outputs": [
    {
     "name": "stdout",
     "output_type": "stream",
     "text": [
      "Модель Байеса:\n"
     ]
    },
    {
     "data": {
      "application/vnd.jupyter.widget-view+json": {
       "model_id": "b5cd9e9503fa4d6f816267255767e49e",
       "version_major": 2,
       "version_minor": 0
      },
      "text/plain": [
       "HBox(children=(FloatProgress(value=0.0, max=250.0), HTML(value='')))"
      ]
     },
     "metadata": {},
     "output_type": "display_data"
    },
    {
     "name": "stdout",
     "output_type": "stream",
     "text": [
      "\n",
      "модель Item2Item:\n"
     ]
    },
    {
     "data": {
      "application/vnd.jupyter.widget-view+json": {
       "model_id": "5ba52139dae14760a764d690c4bcd5c3",
       "version_major": 2,
       "version_minor": 0
      },
      "text/plain": [
       "HBox(children=(FloatProgress(value=0.0, max=5103.0), HTML(value='')))"
      ]
     },
     "metadata": {},
     "output_type": "display_data"
    },
    {
     "name": "stdout",
     "output_type": "stream",
     "text": [
      "\n"
     ]
    }
   ],
   "source": [
    "model_bi2i.fit(train_known_sparse, train_sparse)"
   ]
  },
  {
   "cell_type": "markdown",
   "id": "endless-honolulu",
   "metadata": {},
   "source": [
    "Применение модели:"
   ]
  },
  {
   "cell_type": "code",
   "execution_count": 68,
   "id": "superior-cancer",
   "metadata": {},
   "outputs": [
    {
     "data": {
      "application/vnd.jupyter.widget-view+json": {
       "model_id": "93b0509a09a74f2ebaedf2617535aa5f",
       "version_major": 2,
       "version_minor": 0
      },
      "text/plain": [
       "HBox(children=(FloatProgress(value=0.0, max=315228.0), HTML(value='')))"
      ]
     },
     "metadata": {},
     "output_type": "display_data"
    },
    {
     "name": "stdout",
     "output_type": "stream",
     "text": [
      "\n"
     ]
    }
   ],
   "source": [
    "subm_bi2i_res = {'cheque_id':[], 'sku_id':[], 'position':[]}\n",
    "\n",
    "for cl_i in tqdm(range(val_sparse.shape[0])):\n",
    "    pred_i = model_bi2i.predict(val_sparse[cl_i], val_cl_ids[cl_i], 0.93)\n",
    "    pos = 1\n",
    "    for sku in pred_i:\n",
    "        subm_bi2i_res['cheque_id'].append(val_cheqs_ids[cl_i])\n",
    "        subm_bi2i_res['sku_id'].append(sku)\n",
    "        subm_bi2i_res['position'].append(pos)\n",
    "        pos += 1\n",
    "        \n",
    "results_bi2i = pd.DataFrame(subm_bi2i_res, dtype=np.int64)"
   ]
  },
  {
   "cell_type": "markdown",
   "id": "removable-mileage",
   "metadata": {},
   "source": [
    "Сохранение результатов:"
   ]
  },
  {
   "cell_type": "code",
   "execution_count": 69,
   "id": "actual-accent",
   "metadata": {},
   "outputs": [],
   "source": [
    "# results_bi2i.to_parquet(path='results/submission-Skibin_Maxim_BI2I_new')"
   ]
  }
 ],
 "metadata": {
  "kernelspec": {
   "display_name": "Python 3",
   "language": "python",
   "name": "python3"
  },
  "language_info": {
   "codemirror_mode": {
    "name": "ipython",
    "version": 3
   },
   "file_extension": ".py",
   "mimetype": "text/x-python",
   "name": "python",
   "nbconvert_exporter": "python",
   "pygments_lexer": "ipython3",
   "version": "3.7.9"
  }
 },
 "nbformat": 4,
 "nbformat_minor": 5
}
