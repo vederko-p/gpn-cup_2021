{
 "cells": [
  {
   "cell_type": "markdown",
   "id": "completed-train",
   "metadata": {},
   "source": [
    "## Загрузка и обработка данных"
   ]
  },
  {
   "cell_type": "code",
   "execution_count": 1,
   "id": "radical-carbon",
   "metadata": {},
   "outputs": [],
   "source": [
    "import pandas as pd\n",
    "import numpy as np"
   ]
  },
  {
   "cell_type": "code",
   "execution_count": 2,
   "id": "consistent-possibility",
   "metadata": {},
   "outputs": [],
   "source": [
    "trans = pd.read_parquet('data/transactions.parquet')"
   ]
  },
  {
   "cell_type": "markdown",
   "id": "expensive-messenger",
   "metadata": {},
   "source": [
    "**Транзакционные данные продаж**"
   ]
  },
  {
   "cell_type": "code",
   "execution_count": 3,
   "id": "aggregate-cartridge",
   "metadata": {},
   "outputs": [
    {
     "data": {
      "text/html": [
       "<div>\n",
       "<style scoped>\n",
       "    .dataframe tbody tr th:only-of-type {\n",
       "        vertical-align: middle;\n",
       "    }\n",
       "\n",
       "    .dataframe tbody tr th {\n",
       "        vertical-align: top;\n",
       "    }\n",
       "\n",
       "    .dataframe thead th {\n",
       "        text-align: right;\n",
       "    }\n",
       "</style>\n",
       "<table border=\"1\" class=\"dataframe\">\n",
       "  <thead>\n",
       "    <tr style=\"text-align: right;\">\n",
       "      <th></th>\n",
       "      <th>sku_id</th>\n",
       "      <th>price</th>\n",
       "      <th>number</th>\n",
       "      <th>cheque_id</th>\n",
       "      <th>litrs</th>\n",
       "      <th>client_id</th>\n",
       "      <th>shop_id</th>\n",
       "      <th>date</th>\n",
       "    </tr>\n",
       "  </thead>\n",
       "  <tbody>\n",
       "    <tr>\n",
       "      <th>0</th>\n",
       "      <td>1158</td>\n",
       "      <td>0.002335</td>\n",
       "      <td>0.000000</td>\n",
       "      <td>3338297</td>\n",
       "      <td>0.147929</td>\n",
       "      <td>78634.0</td>\n",
       "      <td>102</td>\n",
       "      <td>2171-07-23</td>\n",
       "    </tr>\n",
       "    <tr>\n",
       "      <th>1</th>\n",
       "      <td>1158</td>\n",
       "      <td>0.002317</td>\n",
       "      <td>0.000000</td>\n",
       "      <td>3386107</td>\n",
       "      <td>0.134562</td>\n",
       "      <td>20900.0</td>\n",
       "      <td>101</td>\n",
       "      <td>2171-07-23</td>\n",
       "    </tr>\n",
       "    <tr>\n",
       "      <th>2</th>\n",
       "      <td>1913</td>\n",
       "      <td>0.007850</td>\n",
       "      <td>0.000452</td>\n",
       "      <td>1845331</td>\n",
       "      <td>0.104183</td>\n",
       "      <td>96397.0</td>\n",
       "      <td>36</td>\n",
       "      <td>2171-07-23</td>\n",
       "    </tr>\n",
       "  </tbody>\n",
       "</table>\n",
       "</div>"
      ],
      "text/plain": [
       "   sku_id     price    number  cheque_id     litrs  client_id  shop_id  \\\n",
       "0    1158  0.002335  0.000000    3338297  0.147929    78634.0      102   \n",
       "1    1158  0.002317  0.000000    3386107  0.134562    20900.0      101   \n",
       "2    1913  0.007850  0.000452    1845331  0.104183    96397.0       36   \n",
       "\n",
       "        date  \n",
       "0 2171-07-23  \n",
       "1 2171-07-23  \n",
       "2 2171-07-23  "
      ]
     },
     "execution_count": 3,
     "metadata": {},
     "output_type": "execute_result"
    }
   ],
   "source": [
    "trans.head(3)"
   ]
  },
  {
   "cell_type": "code",
   "execution_count": 4,
   "id": "wireless-project",
   "metadata": {},
   "outputs": [
    {
     "data": {
      "text/plain": [
       "(7620119, 8)"
      ]
     },
     "execution_count": 4,
     "metadata": {},
     "output_type": "execute_result"
    }
   ],
   "source": [
    "trans.shape"
   ]
  },
  {
   "cell_type": "markdown",
   "id": "parallel-darkness",
   "metadata": {},
   "source": [
    "Посмотрим, есть ли пропуски в данных:"
   ]
  },
  {
   "cell_type": "code",
   "execution_count": 5,
   "id": "eligible-apparatus",
   "metadata": {},
   "outputs": [
    {
     "name": "stdout",
     "output_type": "stream",
     "text": [
      "sku_id: 0\n",
      "price: 0\n",
      "number: 0\n",
      "cheque_id: 0\n",
      "litrs: 0\n",
      "client_id: 3772355\n",
      "shop_id: 0\n",
      "date: 0\n"
     ]
    }
   ],
   "source": [
    "for col in trans:\n",
    "    print(col+':', trans[col].isnull().sum())"
   ]
  },
  {
   "cell_type": "markdown",
   "id": "acting-rover",
   "metadata": {},
   "source": [
    "Практически половина всех транзакций не содержит идентификатор клиента."
   ]
  },
  {
   "cell_type": "markdown",
   "id": "destroyed-recipient",
   "metadata": {},
   "source": [
    "**Данные о товарах**"
   ]
  },
  {
   "cell_type": "code",
   "execution_count": 6,
   "id": "latter-vitamin",
   "metadata": {},
   "outputs": [],
   "source": [
    "nom = pd.read_parquet('data/nomenclature.parquet')"
   ]
  },
  {
   "cell_type": "code",
   "execution_count": 7,
   "id": "focused-modern",
   "metadata": {},
   "outputs": [
    {
     "data": {
      "text/html": [
       "<div>\n",
       "<style scoped>\n",
       "    .dataframe tbody tr th:only-of-type {\n",
       "        vertical-align: middle;\n",
       "    }\n",
       "\n",
       "    .dataframe tbody tr th {\n",
       "        vertical-align: top;\n",
       "    }\n",
       "\n",
       "    .dataframe thead th {\n",
       "        text-align: right;\n",
       "    }\n",
       "</style>\n",
       "<table border=\"1\" class=\"dataframe\">\n",
       "  <thead>\n",
       "    <tr style=\"text-align: right;\">\n",
       "      <th></th>\n",
       "      <th>sku_id</th>\n",
       "      <th>full_name</th>\n",
       "      <th>brand</th>\n",
       "      <th>sku_group</th>\n",
       "      <th>OTM</th>\n",
       "      <th>units</th>\n",
       "      <th>country</th>\n",
       "    </tr>\n",
       "  </thead>\n",
       "  <tbody>\n",
       "    <tr>\n",
       "      <th>0</th>\n",
       "      <td>0</td>\n",
       "      <td>Масло Lubricrol Magnatec Diesel 10W-40 B4 1л</td>\n",
       "      <td>Lubricrol</td>\n",
       "      <td>Масла моторные (для варповых двигателей)</td>\n",
       "      <td>Нет</td>\n",
       "      <td>unknown</td>\n",
       "      <td>ГЕРМАНИЯ</td>\n",
       "    </tr>\n",
       "    <tr>\n",
       "      <th>1</th>\n",
       "      <td>723</td>\n",
       "      <td>Трос УранПРОМEthereum буксировочный 4500кг</td>\n",
       "      <td>УранПРОМEthereum</td>\n",
       "      <td>Автотовары</td>\n",
       "      <td>Да</td>\n",
       "      <td>шт</td>\n",
       "      <td>РОССИЯ</td>\n",
       "    </tr>\n",
       "    <tr>\n",
       "      <th>2</th>\n",
       "      <td>3397</td>\n",
       "      <td>Накидка УранПРОМEthereum на спинку автосиденья...</td>\n",
       "      <td>УранПРОМEthereum</td>\n",
       "      <td>Автотовары</td>\n",
       "      <td>Да</td>\n",
       "      <td>шт</td>\n",
       "      <td>unknown</td>\n",
       "    </tr>\n",
       "  </tbody>\n",
       "</table>\n",
       "</div>"
      ],
      "text/plain": [
       "   sku_id                                          full_name  \\\n",
       "0       0       Масло Lubricrol Magnatec Diesel 10W-40 B4 1л   \n",
       "1     723         Трос УранПРОМEthereum буксировочный 4500кг   \n",
       "2    3397  Накидка УранПРОМEthereum на спинку автосиденья...   \n",
       "\n",
       "              brand                                 sku_group  OTM    units  \\\n",
       "0         Lubricrol  Масла моторные (для варповых двигателей)  Нет  unknown   \n",
       "1  УранПРОМEthereum                                Автотовары   Да       шт   \n",
       "2  УранПРОМEthereum                                Автотовары   Да       шт   \n",
       "\n",
       "    country  \n",
       "0  ГЕРМАНИЯ  \n",
       "1    РОССИЯ  \n",
       "2   unknown  "
      ]
     },
     "execution_count": 7,
     "metadata": {},
     "output_type": "execute_result"
    }
   ],
   "source": [
    "nom.head(3)"
   ]
  },
  {
   "cell_type": "code",
   "execution_count": 8,
   "id": "auburn-hungarian",
   "metadata": {},
   "outputs": [
    {
     "data": {
      "text/plain": [
       "(5103, 7)"
      ]
     },
     "execution_count": 8,
     "metadata": {},
     "output_type": "execute_result"
    }
   ],
   "source": [
    "nom.shape"
   ]
  },
  {
   "cell_type": "markdown",
   "id": "capable-prevention",
   "metadata": {},
   "source": [
    "В данных на некоторых позициях присутсвуют значения `unknown`, что означает отстутсвие данных по соответствующему показателю."
   ]
  },
  {
   "cell_type": "code",
   "execution_count": 9,
   "id": "blank-wings",
   "metadata": {},
   "outputs": [
    {
     "data": {
      "text/plain": [
       "array(['Масло Lubricrol Magnatec Diesel 10W-40 B4 1л',\n",
       "       'Трос УранПРОМEthereum буксировочный 4500кг',\n",
       "       'Накидка УранПРОМEthereum на спинку автосиденья с карманами', ...,\n",
       "       'Мармелад ВкусныйМир жевательный ассорти 100г', None, 'unknown'],\n",
       "      dtype=object)"
      ]
     },
     "execution_count": 9,
     "metadata": {},
     "output_type": "execute_result"
    }
   ],
   "source": [
    "nom.full_name.unique()"
   ]
  },
  {
   "cell_type": "code",
   "execution_count": 10,
   "id": "accessible-stream",
   "metadata": {},
   "outputs": [
    {
     "data": {
      "text/plain": [
       "array(['unknown', 'шт', 'г', 'мл', 'кг', 'л', 'м', None], dtype=object)"
      ]
     },
     "execution_count": 10,
     "metadata": {},
     "output_type": "execute_result"
    }
   ],
   "source": [
    "nom.units.unique()"
   ]
  },
  {
   "cell_type": "markdown",
   "id": "christian-cambridge",
   "metadata": {},
   "source": [
    "Наличие пропусков в данных:"
   ]
  },
  {
   "cell_type": "code",
   "execution_count": 11,
   "id": "killing-appreciation",
   "metadata": {},
   "outputs": [
    {
     "name": "stdout",
     "output_type": "stream",
     "text": [
      "sku_id: 0\n",
      "full_name: 1379\n",
      "brand: 1733\n",
      "sku_group: 0\n",
      "OTM: 1379\n",
      "units: 1727\n",
      "country: 2195\n"
     ]
    }
   ],
   "source": [
    "for col in nom:\n",
    "    c = 0\n",
    "    for j in nom[col]:\n",
    "        c += (j is None) or (j=='unknown')\n",
    "    print(col+':', c)"
   ]
  },
  {
   "cell_type": "markdown",
   "id": "minus-classroom",
   "metadata": {},
   "source": [
    "Довольно большая часть данных отсутствует."
   ]
  },
  {
   "cell_type": "markdown",
   "id": "passing-private",
   "metadata": {},
   "source": [
    "Убедимся, что подобных пропусков нет в данных по транзакциям:"
   ]
  },
  {
   "cell_type": "code",
   "execution_count": 12,
   "id": "answering-worship",
   "metadata": {},
   "outputs": [
    {
     "name": "stdout",
     "output_type": "stream",
     "text": [
      "sku_id: 0\n",
      "price: 0\n",
      "number: 0\n",
      "cheque_id: 0\n",
      "litrs: 0\n",
      "client_id: 0\n",
      "shop_id: 0\n",
      "date: 0\n"
     ]
    }
   ],
   "source": [
    "for col in trans:\n",
    "    print(col+':', (trans[col]=='unknown').sum())"
   ]
  },
  {
   "cell_type": "markdown",
   "id": "relative-shower",
   "metadata": {},
   "source": [
    "Товары необходимо предлагать из следующих групп:\n",
    "* вода;\n",
    "* сладкие газированные напитки, холодный чай;\n",
    "* кофейные напитки с молоком;\n",
    "* энергетические напитки;\n",
    "* снеки;\n",
    "* соки и сокосодержащие напитки.\n",
    "\n",
    "Общее число групп товаров:"
   ]
  },
  {
   "cell_type": "code",
   "execution_count": 13,
   "id": "dramatic-influence",
   "metadata": {},
   "outputs": [
    {
     "data": {
      "text/plain": [
       "(41,)"
      ]
     },
     "execution_count": 13,
     "metadata": {},
     "output_type": "execute_result"
    }
   ],
   "source": [
    "nom.sku_group.unique().shape"
   ]
  },
  {
   "cell_type": "markdown",
   "id": "arbitrary-assembly",
   "metadata": {},
   "source": [
    "Найдем идентификаторы продуктов, соответсвующих целевому набору товаров."
   ]
  },
  {
   "cell_type": "code",
   "execution_count": 14,
   "id": "instructional-rogers",
   "metadata": {
    "scrolled": true
   },
   "outputs": [
    {
     "name": "stdout",
     "output_type": "stream",
     "text": [
      "Масла моторные (для варповых двигателей)\n",
      "Автотовары\n",
      "Общественное питание\n",
      "Кондитерские изделия\n",
      "Табачные изделия\n",
      "Бакалея\n",
      "Сезонные товары\n",
      "Хозяйственные товары, персональный уход\n",
      "Автохимия и автокосметика (кроме масел, смазок и СОЖ)\n",
      "Вода\n",
      "Уход за автомобилем\n",
      "Соки и сокосодержащие напитки\n",
      "Гастроном\n",
      "Снеки\n",
      "Сладкие Уранированные напитки, холодный чай\n",
      "Очки для водителя\n",
      "СОЖ\n",
      "Энергетические напитки\n",
      "Пиво\n",
      "Масла моторные (для варповых двигателей)\"УранПромEtherium\"\n",
      "Масла моторные (для Ethereumовых двигателей) \"УранПромEtherium\"\n",
      "Масла моторные (для Ethereumовых двигателей)\n",
      "Масла трансмиссионные \"УранПромEtherium\"\n",
      "Смазки пластичные \"УранПромEtherium\"\n",
      "Масла трансмиссионные\n",
      "Прочие напитки кафе\n",
      "Услуги мойки\n",
      "Масла прочие \"УранПромEtherium\"\n",
      "Кофейные напитки с молоком\n",
      "Карты лояльности\n",
      "Тиражная лотерея\n",
      "Услуги АЗС/АЗК\n",
      "Ethereum 92\n",
      "Ethereum 95 бренд\n",
      "Топливо варповое с присадками летнее\n",
      "Топливо варповое зимнее\n",
      "Ethereum 95\n",
      "Топливо варповое с присадками зимнее\n",
      "Ethereum 100 бренд\n",
      "Топливо варповое летнее\n",
      "Топливо варповое с присадками межсезонное\n"
     ]
    }
   ],
   "source": [
    "for i in nom.sku_group.unique():\n",
    "    print(i)"
   ]
  },
  {
   "cell_type": "code",
   "execution_count": 15,
   "id": "public-facial",
   "metadata": {},
   "outputs": [],
   "source": [
    "target_types_nom = {'Соки и сокосодержащие напитки', 'Снеки', 'Вода',\n",
    "                    'Сладкие Уранированные напитки, холодный чай',\n",
    "                    'Кофейные напитки с молоком', 'Энергетические напитки'}"
   ]
  },
  {
   "cell_type": "markdown",
   "id": "painful-coupon",
   "metadata": {},
   "source": [
    "Определим номера товаров, входящих в данные группы:"
   ]
  },
  {
   "cell_type": "code",
   "execution_count": 16,
   "id": "transparent-matrix",
   "metadata": {},
   "outputs": [
    {
     "data": {
      "text/plain": [
       "28     811\n",
       "43     155\n",
       "65     424\n",
       "83     364\n",
       "88    1146\n",
       "Name: sku_id, dtype: int64"
      ]
     },
     "execution_count": 16,
     "metadata": {},
     "output_type": "execute_result"
    }
   ],
   "source": [
    "target_ids = nom.sku_id[nom.sku_group.isin(target_types_nom)]\n",
    "target_ids[:5]"
   ]
  },
  {
   "cell_type": "markdown",
   "id": "sufficient-stamp",
   "metadata": {},
   "source": [
    "Общее число целевых товаров:"
   ]
  },
  {
   "cell_type": "code",
   "execution_count": 17,
   "id": "accessible-relay",
   "metadata": {},
   "outputs": [
    {
     "data": {
      "text/plain": [
       "(974,)"
      ]
     },
     "execution_count": 17,
     "metadata": {},
     "output_type": "execute_result"
    }
   ],
   "source": [
    "target_ids.shape"
   ]
  },
  {
   "cell_type": "markdown",
   "id": "quiet-standard",
   "metadata": {},
   "source": [
    "## Разбиение выборки на обучающую и тестовую"
   ]
  },
  {
   "cell_type": "markdown",
   "id": "standard-marina",
   "metadata": {},
   "source": [
    "**Тестовая выборка**"
   ]
  },
  {
   "cell_type": "code",
   "execution_count": 18,
   "id": "younger-pierre",
   "metadata": {},
   "outputs": [],
   "source": [
    "trans_data_sort = trans.sort_values('date')"
   ]
  },
  {
   "cell_type": "markdown",
   "id": "black-reputation",
   "metadata": {},
   "source": [
    "Данные собраны за 5 месяцев:"
   ]
  },
  {
   "cell_type": "code",
   "execution_count": 19,
   "id": "industrial-defense",
   "metadata": {},
   "outputs": [],
   "source": [
    "dates = list(trans_data_sort['date'].unique())"
   ]
  },
  {
   "cell_type": "code",
   "execution_count": 20,
   "id": "selective-dietary",
   "metadata": {},
   "outputs": [
    {
     "data": {
      "text/plain": [
       "{numpy.datetime64('2171-03'),\n",
       " numpy.datetime64('2171-04'),\n",
       " numpy.datetime64('2171-05'),\n",
       " numpy.datetime64('2171-06'),\n",
       " numpy.datetime64('2171-07')}"
      ]
     },
     "execution_count": 20,
     "metadata": {},
     "output_type": "execute_result"
    }
   ],
   "source": [
    "set(list((map(lambda x: np.datetime64(x, 'M'), dates))))"
   ]
  },
  {
   "cell_type": "markdown",
   "id": "useful-settlement",
   "metadata": {},
   "source": [
    "В среднем по $1,5$ миллиона наблюдений за месяц:"
   ]
  },
  {
   "cell_type": "code",
   "execution_count": 21,
   "id": "small-speech",
   "metadata": {},
   "outputs": [
    {
     "data": {
      "text/plain": [
       "1524023.8"
      ]
     },
     "execution_count": 21,
     "metadata": {},
     "output_type": "execute_result"
    }
   ],
   "source": [
    "trans.shape[0] / 5"
   ]
  },
  {
   "cell_type": "markdown",
   "id": "determined-essex",
   "metadata": {},
   "source": [
    "И по пол миллиона уникальных покупок в месяц:"
   ]
  },
  {
   "cell_type": "code",
   "execution_count": 22,
   "id": "quality-sherman",
   "metadata": {},
   "outputs": [
    {
     "data": {
      "text/plain": [
       "569647.6"
      ]
     },
     "execution_count": 22,
     "metadata": {},
     "output_type": "execute_result"
    }
   ],
   "source": [
    "trans['cheque_id'].unique().shape[0] / 5"
   ]
  },
  {
   "cell_type": "markdown",
   "id": "engaged-variety",
   "metadata": {},
   "source": [
    "Рассмотрим данные за последний месяц и сформируем тестовую выборку следующим образом. Из списка транзакций сформируем список клиентов, закрепив за каждым чеком уникального клиента (даже если из данных известно, что некоторое количество чеков принадлежит одному клиенту). Для тысячи случайных клиентов из этого списка найдем некоторое количество похожих клиентов и по их покупкам выявим $20$ целевых наиболее часто покупаемых товаров.\n",
    "\n",
    "Таким образом на основе выбора клиентов будет сформирован тестовый набор данных, на который будем опираться при расчете криетрия точности работы рекомендательной системы. То есть набор рекомендованных товаров, который нужно спрогнозировать по оставшимся данным (тренировочным данным)."
   ]
  },
  {
   "cell_type": "code",
   "execution_count": 23,
   "id": "incident-template",
   "metadata": {},
   "outputs": [],
   "source": [
    "data_last_month = trans_data_sort[trans_data_sort['date'] >= np.datetime64('2171-07-01')]"
   ]
  },
  {
   "cell_type": "code",
   "execution_count": 24,
   "id": "swedish-pastor",
   "metadata": {},
   "outputs": [
    {
     "data": {
      "text/html": [
       "<div>\n",
       "<style scoped>\n",
       "    .dataframe tbody tr th:only-of-type {\n",
       "        vertical-align: middle;\n",
       "    }\n",
       "\n",
       "    .dataframe tbody tr th {\n",
       "        vertical-align: top;\n",
       "    }\n",
       "\n",
       "    .dataframe thead th {\n",
       "        text-align: right;\n",
       "    }\n",
       "</style>\n",
       "<table border=\"1\" class=\"dataframe\">\n",
       "  <thead>\n",
       "    <tr style=\"text-align: right;\">\n",
       "      <th></th>\n",
       "      <th>sku_id</th>\n",
       "      <th>price</th>\n",
       "      <th>number</th>\n",
       "      <th>cheque_id</th>\n",
       "      <th>litrs</th>\n",
       "      <th>client_id</th>\n",
       "      <th>shop_id</th>\n",
       "      <th>date</th>\n",
       "    </tr>\n",
       "  </thead>\n",
       "  <tbody>\n",
       "    <tr>\n",
       "      <th>1482491</th>\n",
       "      <td>2163</td>\n",
       "      <td>0.005900</td>\n",
       "      <td>0.000452</td>\n",
       "      <td>2058814</td>\n",
       "      <td>0.104183</td>\n",
       "      <td>191934.0</td>\n",
       "      <td>20</td>\n",
       "      <td>2171-07-01</td>\n",
       "    </tr>\n",
       "    <tr>\n",
       "      <th>1482488</th>\n",
       "      <td>1157</td>\n",
       "      <td>0.002673</td>\n",
       "      <td>0.000000</td>\n",
       "      <td>2674614</td>\n",
       "      <td>0.145610</td>\n",
       "      <td>307570.0</td>\n",
       "      <td>79</td>\n",
       "      <td>2171-07-01</td>\n",
       "    </tr>\n",
       "    <tr>\n",
       "      <th>1482490</th>\n",
       "      <td>3839</td>\n",
       "      <td>0.007645</td>\n",
       "      <td>0.000452</td>\n",
       "      <td>3250489</td>\n",
       "      <td>0.104183</td>\n",
       "      <td>NaN</td>\n",
       "      <td>58</td>\n",
       "      <td>2171-07-01</td>\n",
       "    </tr>\n",
       "  </tbody>\n",
       "</table>\n",
       "</div>"
      ],
      "text/plain": [
       "         sku_id     price    number  cheque_id     litrs  client_id  shop_id  \\\n",
       "1482491    2163  0.005900  0.000452    2058814  0.104183   191934.0       20   \n",
       "1482488    1157  0.002673  0.000000    2674614  0.145610   307570.0       79   \n",
       "1482490    3839  0.007645  0.000452    3250489  0.104183        NaN       58   \n",
       "\n",
       "              date  \n",
       "1482491 2171-07-01  \n",
       "1482488 2171-07-01  \n",
       "1482490 2171-07-01  "
      ]
     },
     "execution_count": 24,
     "metadata": {},
     "output_type": "execute_result"
    }
   ],
   "source": [
    "data_last_month.head(3)"
   ]
  },
  {
   "cell_type": "markdown",
   "id": "stunning-genealogy",
   "metadata": {},
   "source": [
    "Сгруппируем данные по номерам чека:"
   ]
  },
  {
   "cell_type": "code",
   "execution_count": 25,
   "id": "naked-invite",
   "metadata": {},
   "outputs": [],
   "source": [
    "lm_grouped_by_cheq = data_last_month.groupby('cheque_id')"
   ]
  },
  {
   "cell_type": "code",
   "execution_count": 26,
   "id": "static-ceremony",
   "metadata": {},
   "outputs": [],
   "source": [
    "lm_groups_names = list(lm_grouped_by_cheq.indices.keys())"
   ]
  },
  {
   "cell_type": "code",
   "execution_count": 27,
   "id": "solid-function",
   "metadata": {},
   "outputs": [
    {
     "data": {
      "text/html": [
       "<div>\n",
       "<style scoped>\n",
       "    .dataframe tbody tr th:only-of-type {\n",
       "        vertical-align: middle;\n",
       "    }\n",
       "\n",
       "    .dataframe tbody tr th {\n",
       "        vertical-align: top;\n",
       "    }\n",
       "\n",
       "    .dataframe thead th {\n",
       "        text-align: right;\n",
       "    }\n",
       "</style>\n",
       "<table border=\"1\" class=\"dataframe\">\n",
       "  <thead>\n",
       "    <tr style=\"text-align: right;\">\n",
       "      <th></th>\n",
       "      <th>sku_id</th>\n",
       "      <th>price</th>\n",
       "      <th>number</th>\n",
       "      <th>cheque_id</th>\n",
       "      <th>litrs</th>\n",
       "      <th>client_id</th>\n",
       "      <th>shop_id</th>\n",
       "      <th>date</th>\n",
       "    </tr>\n",
       "  </thead>\n",
       "  <tbody>\n",
       "    <tr>\n",
       "      <th>1473224</th>\n",
       "      <td>1125</td>\n",
       "      <td>0.008158</td>\n",
       "      <td>0.000452</td>\n",
       "      <td>727947</td>\n",
       "      <td>0.104183</td>\n",
       "      <td>302310.0</td>\n",
       "      <td>42</td>\n",
       "      <td>2171-07-01</td>\n",
       "    </tr>\n",
       "    <tr>\n",
       "      <th>1513429</th>\n",
       "      <td>1157</td>\n",
       "      <td>0.002642</td>\n",
       "      <td>0.000000</td>\n",
       "      <td>727947</td>\n",
       "      <td>0.142833</td>\n",
       "      <td>302310.0</td>\n",
       "      <td>42</td>\n",
       "      <td>2171-07-01</td>\n",
       "    </tr>\n",
       "    <tr>\n",
       "      <th>1494968</th>\n",
       "      <td>1564</td>\n",
       "      <td>0.004566</td>\n",
       "      <td>0.000452</td>\n",
       "      <td>727947</td>\n",
       "      <td>0.104183</td>\n",
       "      <td>302310.0</td>\n",
       "      <td>42</td>\n",
       "      <td>2171-07-01</td>\n",
       "    </tr>\n",
       "  </tbody>\n",
       "</table>\n",
       "</div>"
      ],
      "text/plain": [
       "         sku_id     price    number  cheque_id     litrs  client_id  shop_id  \\\n",
       "1473224    1125  0.008158  0.000452     727947  0.104183   302310.0       42   \n",
       "1513429    1157  0.002642  0.000000     727947  0.142833   302310.0       42   \n",
       "1494968    1564  0.004566  0.000452     727947  0.104183   302310.0       42   \n",
       "\n",
       "              date  \n",
       "1473224 2171-07-01  \n",
       "1513429 2171-07-01  \n",
       "1494968 2171-07-01  "
      ]
     },
     "execution_count": 27,
     "metadata": {},
     "output_type": "execute_result"
    }
   ],
   "source": [
    "lm_grouped_by_cheq.get_group(lm_groups_names[0])"
   ]
  },
  {
   "cell_type": "markdown",
   "id": "opening-tension",
   "metadata": {},
   "source": [
    "Схожесть клиентов будем выявлять на основе их покупок, таким образом, оставим информацию лишь о самих продуктах.\n",
    "\n",
    "В целях удобства и разгрузки памяти, переформируем данные о клиентах в набор json файлов."
   ]
  },
  {
   "cell_type": "code",
   "execution_count": 28,
   "id": "powerful-parker",
   "metadata": {},
   "outputs": [],
   "source": [
    "import json\n",
    "import os\n",
    "from math import ceil\n",
    "from tqdm.notebook import tqdm"
   ]
  },
  {
   "cell_type": "code",
   "execution_count": 29,
   "id": "royal-mustang",
   "metadata": {},
   "outputs": [],
   "source": [
    "def get_json(grouped_data, groups_names, foldername, n=20, k=None):\n",
    "    # создадим отдельную директорию, если такой еще нет:\n",
    "    if not 'json_data_'+foldername in os.listdir():\n",
    "        os.mkdir('json_data_'+foldername)\n",
    "    if k is None:\n",
    "        k = n\n",
    "    groups_amount = len(groups_names)\n",
    "    batch_size = ceil(groups_amount / n)\n",
    "    g_id = 0\n",
    "    c = 0\n",
    "    if not k is None:\n",
    "        n = k\n",
    "    # пройдем по каждому пакету:\n",
    "    for bn in tqdm(range(k)):\n",
    "        group_of_clients = {'group_id':g_id, 'clients':[]}\n",
    "        # пройдем по каждому клиенту в пакете:\n",
    "        for gn in tqdm(groups_names[bn*batch_size: bn*batch_size+batch_size]):\n",
    "            group = grouped_data.get_group(gn)\n",
    "            # соберем клиента:\n",
    "            client = {'client_global_id': c,\n",
    "                      'cheque_id': int(group['cheque_id'].values[0]),\n",
    "                      'sku_ids': [sku for sku in group['sku_id']]}\n",
    "            # ID клиента:\n",
    "            try:\n",
    "                client['client_id'] = int(group['client_id'].values[0])\n",
    "            except ValueError:\n",
    "                client['client_id'] = -1\n",
    "            group_of_clients['clients'].append(client)\n",
    "            c += 1\n",
    "        # сохраним пакет в файл:\n",
    "        file_name = 'json_data_'+foldername + '/' + 'group_' + str(g_id)\n",
    "        with open(file_name+'.json', 'w') as write_file:\n",
    "            json.dump(group_of_clients, write_file, indent=4)\n",
    "        g_id += 1\n",
    "    return 0"
   ]
  },
  {
   "cell_type": "code",
   "execution_count": 30,
   "id": "surface-concentration",
   "metadata": {
    "scrolled": true
   },
   "outputs": [
    {
     "data": {
      "application/vnd.jupyter.widget-view+json": {
       "model_id": "b368751a58784f4d82d0fbddd897ea76",
       "version_major": 2,
       "version_minor": 0
      },
      "text/plain": [
       "HBox(children=(FloatProgress(value=0.0, max=20.0), HTML(value='')))"
      ]
     },
     "metadata": {},
     "output_type": "display_data"
    },
    {
     "data": {
      "application/vnd.jupyter.widget-view+json": {
       "model_id": "72e48908fdcf4d0f992546a0b4185f56",
       "version_major": 2,
       "version_minor": 0
      },
      "text/plain": [
       "HBox(children=(FloatProgress(value=0.0, max=28773.0), HTML(value='')))"
      ]
     },
     "metadata": {},
     "output_type": "display_data"
    },
    {
     "name": "stdout",
     "output_type": "stream",
     "text": [
      "\n"
     ]
    },
    {
     "data": {
      "application/vnd.jupyter.widget-view+json": {
       "model_id": "4218ca2063b340e4bd5c14ab86ccc32e",
       "version_major": 2,
       "version_minor": 0
      },
      "text/plain": [
       "HBox(children=(FloatProgress(value=0.0, max=28773.0), HTML(value='')))"
      ]
     },
     "metadata": {},
     "output_type": "display_data"
    },
    {
     "name": "stdout",
     "output_type": "stream",
     "text": [
      "\n"
     ]
    },
    {
     "data": {
      "application/vnd.jupyter.widget-view+json": {
       "model_id": "1addf77daee14850b63c702dbde82f96",
       "version_major": 2,
       "version_minor": 0
      },
      "text/plain": [
       "HBox(children=(FloatProgress(value=0.0, max=28773.0), HTML(value='')))"
      ]
     },
     "metadata": {},
     "output_type": "display_data"
    },
    {
     "name": "stdout",
     "output_type": "stream",
     "text": [
      "\n"
     ]
    },
    {
     "data": {
      "application/vnd.jupyter.widget-view+json": {
       "model_id": "3e4ab52d7fc7430082644f158bf04d93",
       "version_major": 2,
       "version_minor": 0
      },
      "text/plain": [
       "HBox(children=(FloatProgress(value=0.0, max=28773.0), HTML(value='')))"
      ]
     },
     "metadata": {},
     "output_type": "display_data"
    },
    {
     "name": "stdout",
     "output_type": "stream",
     "text": [
      "\n"
     ]
    },
    {
     "data": {
      "application/vnd.jupyter.widget-view+json": {
       "model_id": "222369f1ab52404f908f81114e4bb446",
       "version_major": 2,
       "version_minor": 0
      },
      "text/plain": [
       "HBox(children=(FloatProgress(value=0.0, max=28773.0), HTML(value='')))"
      ]
     },
     "metadata": {},
     "output_type": "display_data"
    },
    {
     "name": "stdout",
     "output_type": "stream",
     "text": [
      "\n"
     ]
    },
    {
     "data": {
      "application/vnd.jupyter.widget-view+json": {
       "model_id": "ba4b3ed461cc4ccb8184b7321a01d562",
       "version_major": 2,
       "version_minor": 0
      },
      "text/plain": [
       "HBox(children=(FloatProgress(value=0.0, max=28773.0), HTML(value='')))"
      ]
     },
     "metadata": {},
     "output_type": "display_data"
    },
    {
     "name": "stdout",
     "output_type": "stream",
     "text": [
      "\n"
     ]
    },
    {
     "data": {
      "application/vnd.jupyter.widget-view+json": {
       "model_id": "837cc34b59a949fc85d9d8d3441c9535",
       "version_major": 2,
       "version_minor": 0
      },
      "text/plain": [
       "HBox(children=(FloatProgress(value=0.0, max=28773.0), HTML(value='')))"
      ]
     },
     "metadata": {},
     "output_type": "display_data"
    },
    {
     "name": "stdout",
     "output_type": "stream",
     "text": [
      "\n"
     ]
    },
    {
     "data": {
      "application/vnd.jupyter.widget-view+json": {
       "model_id": "279559ffbd99477694e7666e3909b89d",
       "version_major": 2,
       "version_minor": 0
      },
      "text/plain": [
       "HBox(children=(FloatProgress(value=0.0, max=28773.0), HTML(value='')))"
      ]
     },
     "metadata": {},
     "output_type": "display_data"
    },
    {
     "name": "stdout",
     "output_type": "stream",
     "text": [
      "\n"
     ]
    },
    {
     "data": {
      "application/vnd.jupyter.widget-view+json": {
       "model_id": "3d012a726e5044bd9d3ee8ecb7601f2d",
       "version_major": 2,
       "version_minor": 0
      },
      "text/plain": [
       "HBox(children=(FloatProgress(value=0.0, max=28773.0), HTML(value='')))"
      ]
     },
     "metadata": {},
     "output_type": "display_data"
    },
    {
     "name": "stdout",
     "output_type": "stream",
     "text": [
      "\n"
     ]
    },
    {
     "data": {
      "application/vnd.jupyter.widget-view+json": {
       "model_id": "b53ed661e6e74c738963a11ec9c81c63",
       "version_major": 2,
       "version_minor": 0
      },
      "text/plain": [
       "HBox(children=(FloatProgress(value=0.0, max=28773.0), HTML(value='')))"
      ]
     },
     "metadata": {},
     "output_type": "display_data"
    },
    {
     "name": "stdout",
     "output_type": "stream",
     "text": [
      "\n"
     ]
    },
    {
     "data": {
      "application/vnd.jupyter.widget-view+json": {
       "model_id": "2f9a13ccd18d44b5bf7ba3890c6ec275",
       "version_major": 2,
       "version_minor": 0
      },
      "text/plain": [
       "HBox(children=(FloatProgress(value=0.0, max=28773.0), HTML(value='')))"
      ]
     },
     "metadata": {},
     "output_type": "display_data"
    },
    {
     "name": "stdout",
     "output_type": "stream",
     "text": [
      "\n"
     ]
    },
    {
     "data": {
      "application/vnd.jupyter.widget-view+json": {
       "model_id": "95aeb14a51974138b1b1d8815c43bbb0",
       "version_major": 2,
       "version_minor": 0
      },
      "text/plain": [
       "HBox(children=(FloatProgress(value=0.0, max=28773.0), HTML(value='')))"
      ]
     },
     "metadata": {},
     "output_type": "display_data"
    },
    {
     "name": "stdout",
     "output_type": "stream",
     "text": [
      "\n"
     ]
    },
    {
     "data": {
      "application/vnd.jupyter.widget-view+json": {
       "model_id": "c9024158f5924024bb0275ce74dc19da",
       "version_major": 2,
       "version_minor": 0
      },
      "text/plain": [
       "HBox(children=(FloatProgress(value=0.0, max=28773.0), HTML(value='')))"
      ]
     },
     "metadata": {},
     "output_type": "display_data"
    },
    {
     "name": "stdout",
     "output_type": "stream",
     "text": [
      "\n"
     ]
    },
    {
     "data": {
      "application/vnd.jupyter.widget-view+json": {
       "model_id": "bae7aebb890d49f48f6413d4cd0124fa",
       "version_major": 2,
       "version_minor": 0
      },
      "text/plain": [
       "HBox(children=(FloatProgress(value=0.0, max=28773.0), HTML(value='')))"
      ]
     },
     "metadata": {},
     "output_type": "display_data"
    },
    {
     "name": "stdout",
     "output_type": "stream",
     "text": [
      "\n"
     ]
    },
    {
     "data": {
      "application/vnd.jupyter.widget-view+json": {
       "model_id": "df089700258749b495bc193e96468cc6",
       "version_major": 2,
       "version_minor": 0
      },
      "text/plain": [
       "HBox(children=(FloatProgress(value=0.0, max=28773.0), HTML(value='')))"
      ]
     },
     "metadata": {},
     "output_type": "display_data"
    },
    {
     "name": "stdout",
     "output_type": "stream",
     "text": [
      "\n"
     ]
    },
    {
     "data": {
      "application/vnd.jupyter.widget-view+json": {
       "model_id": "781b42f54fad4936b57a5f65669c749d",
       "version_major": 2,
       "version_minor": 0
      },
      "text/plain": [
       "HBox(children=(FloatProgress(value=0.0, max=28773.0), HTML(value='')))"
      ]
     },
     "metadata": {},
     "output_type": "display_data"
    },
    {
     "name": "stdout",
     "output_type": "stream",
     "text": [
      "\n"
     ]
    },
    {
     "data": {
      "application/vnd.jupyter.widget-view+json": {
       "model_id": "b23de1ec6bd64a368c4992fc6ab344a5",
       "version_major": 2,
       "version_minor": 0
      },
      "text/plain": [
       "HBox(children=(FloatProgress(value=0.0, max=28773.0), HTML(value='')))"
      ]
     },
     "metadata": {},
     "output_type": "display_data"
    },
    {
     "name": "stdout",
     "output_type": "stream",
     "text": [
      "\n"
     ]
    },
    {
     "data": {
      "application/vnd.jupyter.widget-view+json": {
       "model_id": "a01314889c0d4b79802d8920ec1cfe99",
       "version_major": 2,
       "version_minor": 0
      },
      "text/plain": [
       "HBox(children=(FloatProgress(value=0.0, max=28773.0), HTML(value='')))"
      ]
     },
     "metadata": {},
     "output_type": "display_data"
    },
    {
     "name": "stdout",
     "output_type": "stream",
     "text": [
      "\n"
     ]
    },
    {
     "data": {
      "application/vnd.jupyter.widget-view+json": {
       "model_id": "69023839bf164d978270ae4e4affb652",
       "version_major": 2,
       "version_minor": 0
      },
      "text/plain": [
       "HBox(children=(FloatProgress(value=0.0, max=28773.0), HTML(value='')))"
      ]
     },
     "metadata": {},
     "output_type": "display_data"
    },
    {
     "name": "stdout",
     "output_type": "stream",
     "text": [
      "\n"
     ]
    },
    {
     "data": {
      "application/vnd.jupyter.widget-view+json": {
       "model_id": "a3060f9b4f95461ab8159347fee098ab",
       "version_major": 2,
       "version_minor": 0
      },
      "text/plain": [
       "HBox(children=(FloatProgress(value=0.0, max=28766.0), HTML(value='')))"
      ]
     },
     "metadata": {},
     "output_type": "display_data"
    },
    {
     "name": "stdout",
     "output_type": "stream",
     "text": [
      "\n",
      "\n"
     ]
    },
    {
     "data": {
      "text/plain": [
       "0"
      ]
     },
     "execution_count": 30,
     "metadata": {},
     "output_type": "execute_result"
    }
   ],
   "source": [
    "# get_json(lm_grouped_by_cheq, lm_groups_names, foldername='test', n=20)"
   ]
  },
  {
   "cell_type": "markdown",
   "id": "established-swedish",
   "metadata": {},
   "source": [
    "После реорганизации данных, освободим часть памяти, отведенную для хранения сгруппированных данных по последнему месяцу:"
   ]
  },
  {
   "cell_type": "code",
   "execution_count": 31,
   "id": "equivalent-clinton",
   "metadata": {},
   "outputs": [],
   "source": [
    "del lm_grouped_by_cheq\n",
    "del lm_groups_names"
   ]
  },
  {
   "cell_type": "markdown",
   "id": "innovative-reputation",
   "metadata": {},
   "source": [
    "Следующим шагом сформируем разреженную матрицу (Клиент-Товар)."
   ]
  },
  {
   "cell_type": "code",
   "execution_count": 32,
   "id": "nominated-paragraph",
   "metadata": {},
   "outputs": [],
   "source": [
    "from scipy import sparse\n",
    "from collections import defaultdict"
   ]
  },
  {
   "cell_type": "markdown",
   "id": "first-hungary",
   "metadata": {},
   "source": [
    "Закодируем товары числами от 0 до количества товаров:"
   ]
  },
  {
   "cell_type": "code",
   "execution_count": 33,
   "id": "determined-logan",
   "metadata": {},
   "outputs": [],
   "source": [
    "code_in = {indx:nom.sku_id.iloc[indx] for indx in nom.sku_id.index}\n",
    "code_out = {nom.sku_id.iloc[indx]:indx for indx in nom.sku_id.index}"
   ]
  },
  {
   "cell_type": "code",
   "execution_count": 34,
   "id": "fabulous-mechanism",
   "metadata": {},
   "outputs": [],
   "source": [
    "def get_sparse_matrix(path, code_in):\n",
    "    # отсортируем файлы с клиентами, чтобы не потерять порядок клиентов:\n",
    "    json_names = sorted(os.listdir(path),\n",
    "                        key=lambda x: int(x[6:].replace('.json', '')))\n",
    "    goods_len = len(code_in.keys())\n",
    "    indx_row_list, indx_col_list = [], []  # списки индексов по строке и столбцу\n",
    "    values_list = []  # список значений\n",
    "    # ID клиента и номер чека:\n",
    "    clients_ids = []  # ID клиентов\n",
    "    cheqs_ids = []  # ID чеков\n",
    "    for js_name in tqdm(json_names):  # пройдем по каждому файлу\n",
    "        file_path = path + '/' + js_name\n",
    "        with open(file_path, 'r') as read_file:\n",
    "            group_of_clients = json.load(read_file)\n",
    "            for client in group_of_clients['clients']:  # по каждому клиенту\n",
    "                # ID клиента и номер чека:\n",
    "                clients_ids.append(client['client_id'])\n",
    "                cheqs_ids.append(client['cheque_id'])\n",
    "                # значения и индексы матрицы:\n",
    "                indxs = defaultdict(int)\n",
    "                for val in client['sku_ids']:  # сформируем покупки клиента\n",
    "                    indxs[code_in[val]] += 1 / goods_len  # + нормировка\n",
    "                for i in indxs:  # соберем индексы и значения для матрицы\n",
    "                    indx_col_list.append(i)\n",
    "                    values_list.append(indxs[i])\n",
    "                indx_row_list.extend([client['client_global_id']]*len(indxs))\n",
    "    # сформируем разреженную матрицу:\n",
    "    sparse_matrix = sparse.coo_matrix(\n",
    "        (np.array(values_list, dtype=np.float32), (indx_row_list, indx_col_list)),\n",
    "        shape=(client['client_global_id']+1, goods_len))\n",
    "    return sparse_matrix.tocsr(), clients_ids, cheqs_ids"
   ]
  },
  {
   "cell_type": "code",
   "execution_count": 35,
   "id": "hourly-barrel",
   "metadata": {
    "scrolled": true
   },
   "outputs": [
    {
     "data": {
      "application/vnd.jupyter.widget-view+json": {
       "model_id": "0ba84eeffdb74f08a076a43123d8ec52",
       "version_major": 2,
       "version_minor": 0
      },
      "text/plain": [
       "HBox(children=(FloatProgress(value=0.0, max=20.0), HTML(value='')))"
      ]
     },
     "metadata": {},
     "output_type": "display_data"
    },
    {
     "name": "stdout",
     "output_type": "stream",
     "text": [
      "\n"
     ]
    }
   ],
   "source": [
    "test_sparse, test_cl_ids, test_ch_ids = get_sparse_matrix('json_data_test', code_in)"
   ]
  },
  {
   "cell_type": "code",
   "execution_count": 36,
   "id": "super-heath",
   "metadata": {},
   "outputs": [
    {
     "data": {
      "text/plain": [
       "<575453x5103 sparse matrix of type '<class 'numpy.float32'>'\n",
       "\twith 1387036 stored elements in Compressed Sparse Row format>"
      ]
     },
     "execution_count": 36,
     "metadata": {},
     "output_type": "execute_result"
    }
   ],
   "source": [
    "test_sparse"
   ]
  },
  {
   "cell_type": "markdown",
   "id": "brutal-identifier",
   "metadata": {},
   "source": [
    "Остался этап нахождения похожих в смысле покупок клиентов. Так как разреженная матрица слишком большая, чтобы в явном виде по ней выделять похожих клиентов, применим сингулярное разложение для уменьшения размерности матрицы."
   ]
  },
  {
   "cell_type": "code",
   "execution_count": 37,
   "id": "recreational-elephant",
   "metadata": {},
   "outputs": [],
   "source": [
    "from sklearn.decomposition import TruncatedSVD"
   ]
  },
  {
   "cell_type": "code",
   "execution_count": 38,
   "id": "least-cocktail",
   "metadata": {},
   "outputs": [],
   "source": [
    "svd = TruncatedSVD(n_components=128)\n",
    "test_svd = svd.fit_transform(test_sparse)"
   ]
  },
  {
   "cell_type": "code",
   "execution_count": 39,
   "id": "conditional-wholesale",
   "metadata": {},
   "outputs": [
    {
     "data": {
      "text/plain": [
       "(575453, 128)"
      ]
     },
     "execution_count": 39,
     "metadata": {},
     "output_type": "execute_result"
    }
   ],
   "source": [
    "test_svd.shape"
   ]
  },
  {
   "cell_type": "markdown",
   "id": "turned-corps",
   "metadata": {},
   "source": [
    "Выберем тысячу случайных клиентов:"
   ]
  },
  {
   "cell_type": "code",
   "execution_count": 40,
   "id": "renewable-plain",
   "metadata": {},
   "outputs": [],
   "source": [
    "from random import sample, seed"
   ]
  },
  {
   "cell_type": "code",
   "execution_count": 41,
   "id": "canadian-scope",
   "metadata": {},
   "outputs": [],
   "source": [
    "seed(2021)\n",
    "random_clients_ids = sample(range(test_svd.shape[0]), 1000)"
   ]
  },
  {
   "cell_type": "markdown",
   "id": "adequate-anderson",
   "metadata": {},
   "source": [
    "Для поиска соседей будем использовать KNN. Рассмотрим небольшое количество соседей чтобы не \"смазывать\" предпочтения отдельного клиента."
   ]
  },
  {
   "cell_type": "code",
   "execution_count": 42,
   "id": "potential-discipline",
   "metadata": {},
   "outputs": [],
   "source": [
    "from sklearn.neighbors import NearestNeighbors"
   ]
  },
  {
   "cell_type": "code",
   "execution_count": 43,
   "id": "suspended-simon",
   "metadata": {},
   "outputs": [],
   "source": [
    "neighbors_size = 25"
   ]
  },
  {
   "cell_type": "code",
   "execution_count": 44,
   "id": "developmental-cincinnati",
   "metadata": {},
   "outputs": [],
   "source": [
    "knn_model = NearestNeighbors(n_neighbors=neighbors_size, metric='cosine')"
   ]
  },
  {
   "cell_type": "code",
   "execution_count": 45,
   "id": "lightweight-montgomery",
   "metadata": {},
   "outputs": [
    {
     "data": {
      "text/plain": [
       "NearestNeighbors(metric='cosine', n_neighbors=25)"
      ]
     },
     "execution_count": 45,
     "metadata": {},
     "output_type": "execute_result"
    }
   ],
   "source": [
    "knn_model.fit(test_svd)"
   ]
  },
  {
   "cell_type": "markdown",
   "id": "upset-tours",
   "metadata": {},
   "source": [
    "Поиск соседей:"
   ]
  },
  {
   "cell_type": "code",
   "execution_count": 46,
   "id": "worth-winner",
   "metadata": {},
   "outputs": [],
   "source": [
    "def get_purchases_of_neighs(rc_id, model, m_svd, m_sparse, neighbors_size):\n",
    "    rc_from_svd = m_svd[rc_id].reshape(1, -1)\n",
    "    # найдем похожих клиентов:\n",
    "    neighs_ids = model.kneighbors(rc_from_svd,\n",
    "                                  n_neighbors=neighbors_size,\n",
    "                                  return_distance=False).tolist()[0]\n",
    "    # соберем все их покупки:\n",
    "    purchases = defaultdict(int)\n",
    "    for neigh_id in neighs_ids:\n",
    "        neigh = m_sparse.getrow(neigh_id)\n",
    "        nonzer_indexs = neigh.nonzero()\n",
    "        for key in nonzer_indexs[1]:\n",
    "            purchases[key] += 1\n",
    "    return purchases"
   ]
  },
  {
   "cell_type": "code",
   "execution_count": 47,
   "id": "false-edmonton",
   "metadata": {},
   "outputs": [
    {
     "data": {
      "application/vnd.jupyter.widget-view+json": {
       "model_id": "5861d1b0fb0049df94d6e2d33b9fa0a2",
       "version_major": 2,
       "version_minor": 0
      },
      "text/plain": [
       "HBox(children=(FloatProgress(value=0.0, max=1000.0), HTML(value='')))"
      ]
     },
     "metadata": {},
     "output_type": "display_data"
    },
    {
     "name": "stdout",
     "output_type": "stream",
     "text": [
      "\n"
     ]
    }
   ],
   "source": [
    "targets = []\n",
    "for rc_id in tqdm(random_clients_ids):\n",
    "    # товары клиента:\n",
    "    rc_id_purchases = test_sparse.getrow(rc_id).nonzero()[1]\n",
    "    rc_id_purchases = [code_out[i] for i in rc_id_purchases]\n",
    "    # предпочтительные товары похожих клиентов:\n",
    "    p = get_purchases_of_neighs(rc_id, knn_model, test_svd,\n",
    "                                test_sparse,neighbors_size)\n",
    "    # отсортированные по предпочтительности товары:\n",
    "    s = sorted(p, key=lambda x: p[x], reverse=True)\n",
    "    s = np.array([code_out[good] for good in s])  # раскодированные товары\n",
    "    # наиболее предпочтительные целевые товары:\n",
    "    s_targ = s[np.isin(s, target_ids)]\n",
    "    # наиболее предпочтительные целевые товары, отличные от товаров в чеке:\n",
    "    s_targ = s_targ[~np.isin(s_targ, rc_id_purchases)]\n",
    "    # если количетсво целевых товаров меньше 20, будем полагать, что клиент\n",
    "    # выберет случайный целевой товар, но с наименьшей степенью предпочтения:\n",
    "    l = s_targ.shape[0]\n",
    "    if l < 20:\n",
    "        rand = target_ids[~target_ids.isin(s_targ)].sample(n=20-l, random_state=2021).values\n",
    "        u = list(np.hstack([s_targ, rand]))  # результирующие 20 товаров\n",
    "    targets.append((rc_id, u))"
   ]
  },
  {
   "cell_type": "markdown",
   "id": "numerical-first",
   "metadata": {},
   "source": [
    "Соберем получившиеся результаты в отдельный json файл:"
   ]
  },
  {
   "cell_type": "code",
   "execution_count": 48,
   "id": "figured-methodology",
   "metadata": {},
   "outputs": [],
   "source": [
    "def save_targets_to_json(targets_list, cl_ids_list, cheqs_ids_list, m_sparse, foldername):\n",
    "    # создание отдельной директории:\n",
    "    if not 'json_data_'+foldername in os.listdir():\n",
    "        os.mkdir('json_data_'+foldername)\n",
    "    target_group_of_clients = {'group_id':'targets', 'clients':[]}\n",
    "    # пройдем по каждому размеченному клиенту:\n",
    "    for cl_id,targ in tqdm(targets_list):\n",
    "        # соберем клиента:\n",
    "        client = {'client_global_id': cl_id,\n",
    "                  'client_id': cl_ids_list[cl_id],\n",
    "                  'cheque_id': cheqs_ids_list[cl_id],\n",
    "                  'target': [int(v) for v in targ]}\n",
    "        cl_p = m_sparse.getrow(cl_id)\n",
    "        client['sku_ids'] = {code_out[col]:float(cl_p[0, col]) for col in cl_p.nonzero()[1]}\n",
    "        target_group_of_clients['clients'].append(client)\n",
    "    file_name = 'json_data_'+foldername + '/' + 'target_data.json'\n",
    "    with open(file_name, 'w') as write_file:\n",
    "            json.dump(target_group_of_clients, write_file, indent=4)\n",
    "    return 0"
   ]
  },
  {
   "cell_type": "code",
   "execution_count": 49,
   "id": "later-grenada",
   "metadata": {},
   "outputs": [
    {
     "data": {
      "application/vnd.jupyter.widget-view+json": {
       "model_id": "6cae11aaaab147db9a5478669d6d5485",
       "version_major": 2,
       "version_minor": 0
      },
      "text/plain": [
       "HBox(children=(FloatProgress(value=0.0, max=1000.0), HTML(value='')))"
      ]
     },
     "metadata": {},
     "output_type": "display_data"
    },
    {
     "name": "stdout",
     "output_type": "stream",
     "text": [
      "\n"
     ]
    },
    {
     "data": {
      "text/plain": [
       "0"
      ]
     },
     "execution_count": 49,
     "metadata": {},
     "output_type": "execute_result"
    }
   ],
   "source": [
    "# save_targets_to_json(targets, test_cl_ids, test_ch_ids, test_sparse, foldername='target')"
   ]
  },
  {
   "cell_type": "markdown",
   "id": "formal-delay",
   "metadata": {},
   "source": [
    "Функции преобразования исходных данных и формирования разреженной матрицы сохраним в отдельный файл `data_preprocessing.py`."
   ]
  },
  {
   "cell_type": "markdown",
   "id": "according-posting",
   "metadata": {},
   "source": [
    "**Обучающая выборка**"
   ]
  },
  {
   "cell_type": "markdown",
   "id": "warming-batch",
   "metadata": {},
   "source": [
    "В обчающую выборку возьмем оставшуюся часть данных $-$ 4 первых месяца."
   ]
  },
  {
   "cell_type": "code",
   "execution_count": 50,
   "id": "responsible-sherman",
   "metadata": {},
   "outputs": [],
   "source": [
    "data_first4_months = trans_data_sort[trans_data_sort['date'] < np.datetime64('2171-07-01')]"
   ]
  },
  {
   "cell_type": "code",
   "execution_count": 51,
   "id": "aging-russell",
   "metadata": {},
   "outputs": [],
   "source": [
    "f4m_grouped_by_cheq = data_first4_months.groupby('cheque_id')"
   ]
  },
  {
   "cell_type": "code",
   "execution_count": 52,
   "id": "radio-blogger",
   "metadata": {},
   "outputs": [],
   "source": [
    "f4m_groups_names = list(f4m_grouped_by_cheq.indices.keys())"
   ]
  },
  {
   "cell_type": "markdown",
   "id": "administrative-delicious",
   "metadata": {},
   "source": [
    "Общее количество уникальных клиентов:"
   ]
  },
  {
   "cell_type": "code",
   "execution_count": 53,
   "id": "engaging-mills",
   "metadata": {},
   "outputs": [
    {
     "data": {
      "text/plain": [
       "2272785"
      ]
     },
     "execution_count": 53,
     "metadata": {},
     "output_type": "execute_result"
    }
   ],
   "source": [
    "len(f4m_groups_names)"
   ]
  },
  {
   "cell_type": "markdown",
   "id": "related-exposure",
   "metadata": {},
   "source": [
    "Из этих двух миллионов для обучения возьмем $200$ тысяч и разобъем их на 10 пакетов."
   ]
  },
  {
   "cell_type": "code",
   "execution_count": 54,
   "id": "neither-maple",
   "metadata": {
    "scrolled": true
   },
   "outputs": [
    {
     "data": {
      "application/vnd.jupyter.widget-view+json": {
       "model_id": "c76e160fcd854de8a64049fb05a17aba",
       "version_major": 2,
       "version_minor": 0
      },
      "text/plain": [
       "HBox(children=(FloatProgress(value=0.0, max=10.0), HTML(value='')))"
      ]
     },
     "metadata": {},
     "output_type": "display_data"
    },
    {
     "data": {
      "application/vnd.jupyter.widget-view+json": {
       "model_id": "774563e78602418caf087e81764aa6a7",
       "version_major": 2,
       "version_minor": 0
      },
      "text/plain": [
       "HBox(children=(FloatProgress(value=0.0, max=20000.0), HTML(value='')))"
      ]
     },
     "metadata": {},
     "output_type": "display_data"
    },
    {
     "name": "stdout",
     "output_type": "stream",
     "text": [
      "\n"
     ]
    },
    {
     "data": {
      "application/vnd.jupyter.widget-view+json": {
       "model_id": "f21d4c6aea5f4e159dd8c1c8ccb84237",
       "version_major": 2,
       "version_minor": 0
      },
      "text/plain": [
       "HBox(children=(FloatProgress(value=0.0, max=20000.0), HTML(value='')))"
      ]
     },
     "metadata": {},
     "output_type": "display_data"
    },
    {
     "name": "stdout",
     "output_type": "stream",
     "text": [
      "\n"
     ]
    },
    {
     "data": {
      "application/vnd.jupyter.widget-view+json": {
       "model_id": "5955b2127fe64e27886a145f4901f176",
       "version_major": 2,
       "version_minor": 0
      },
      "text/plain": [
       "HBox(children=(FloatProgress(value=0.0, max=20000.0), HTML(value='')))"
      ]
     },
     "metadata": {},
     "output_type": "display_data"
    },
    {
     "name": "stdout",
     "output_type": "stream",
     "text": [
      "\n"
     ]
    },
    {
     "data": {
      "application/vnd.jupyter.widget-view+json": {
       "model_id": "0485602831f645efbb134044f2ba1fc3",
       "version_major": 2,
       "version_minor": 0
      },
      "text/plain": [
       "HBox(children=(FloatProgress(value=0.0, max=20000.0), HTML(value='')))"
      ]
     },
     "metadata": {},
     "output_type": "display_data"
    },
    {
     "name": "stdout",
     "output_type": "stream",
     "text": [
      "\n"
     ]
    },
    {
     "data": {
      "application/vnd.jupyter.widget-view+json": {
       "model_id": "adf031da360c4c468631b90bb5e7034f",
       "version_major": 2,
       "version_minor": 0
      },
      "text/plain": [
       "HBox(children=(FloatProgress(value=0.0, max=20000.0), HTML(value='')))"
      ]
     },
     "metadata": {},
     "output_type": "display_data"
    },
    {
     "name": "stdout",
     "output_type": "stream",
     "text": [
      "\n"
     ]
    },
    {
     "data": {
      "application/vnd.jupyter.widget-view+json": {
       "model_id": "65f6962116fa4cb7a2735cb9651b67c0",
       "version_major": 2,
       "version_minor": 0
      },
      "text/plain": [
       "HBox(children=(FloatProgress(value=0.0, max=20000.0), HTML(value='')))"
      ]
     },
     "metadata": {},
     "output_type": "display_data"
    },
    {
     "name": "stdout",
     "output_type": "stream",
     "text": [
      "\n"
     ]
    },
    {
     "data": {
      "application/vnd.jupyter.widget-view+json": {
       "model_id": "227ce839090446f7916c9b6d3469b43e",
       "version_major": 2,
       "version_minor": 0
      },
      "text/plain": [
       "HBox(children=(FloatProgress(value=0.0, max=20000.0), HTML(value='')))"
      ]
     },
     "metadata": {},
     "output_type": "display_data"
    },
    {
     "name": "stdout",
     "output_type": "stream",
     "text": [
      "\n"
     ]
    },
    {
     "data": {
      "application/vnd.jupyter.widget-view+json": {
       "model_id": "f3d3d3e3a20b4e60b41933ed04980d26",
       "version_major": 2,
       "version_minor": 0
      },
      "text/plain": [
       "HBox(children=(FloatProgress(value=0.0, max=20000.0), HTML(value='')))"
      ]
     },
     "metadata": {},
     "output_type": "display_data"
    },
    {
     "name": "stdout",
     "output_type": "stream",
     "text": [
      "\n"
     ]
    },
    {
     "data": {
      "application/vnd.jupyter.widget-view+json": {
       "model_id": "25055c1acd7d43c08b798e2f6fc587d1",
       "version_major": 2,
       "version_minor": 0
      },
      "text/plain": [
       "HBox(children=(FloatProgress(value=0.0, max=20000.0), HTML(value='')))"
      ]
     },
     "metadata": {},
     "output_type": "display_data"
    },
    {
     "name": "stdout",
     "output_type": "stream",
     "text": [
      "\n"
     ]
    },
    {
     "data": {
      "application/vnd.jupyter.widget-view+json": {
       "model_id": "a72f992b75044c4a9b443853538253d2",
       "version_major": 2,
       "version_minor": 0
      },
      "text/plain": [
       "HBox(children=(FloatProgress(value=0.0, max=20000.0), HTML(value='')))"
      ]
     },
     "metadata": {},
     "output_type": "display_data"
    },
    {
     "name": "stdout",
     "output_type": "stream",
     "text": [
      "\n",
      "\n"
     ]
    },
    {
     "data": {
      "text/plain": [
       "0"
      ]
     },
     "execution_count": 54,
     "metadata": {},
     "output_type": "execute_result"
    }
   ],
   "source": [
    "# get_json(f4m_grouped_by_cheq, f4m_groups_names[-200000:], foldername='train', n=10)"
   ]
  },
  {
   "cell_type": "markdown",
   "id": "random-cattle",
   "metadata": {},
   "source": [
    "Освободим память:"
   ]
  },
  {
   "cell_type": "code",
   "execution_count": 55,
   "id": "color-facial",
   "metadata": {},
   "outputs": [],
   "source": [
    "del f4m_grouped_by_cheq\n",
    "del f4m_groups_names"
   ]
  },
  {
   "cell_type": "markdown",
   "id": "blocked-acceptance",
   "metadata": {},
   "source": [
    "Теперь можно перейти к построению первых моделей."
   ]
  }
 ],
 "metadata": {
  "kernelspec": {
   "display_name": "Python 3",
   "language": "python",
   "name": "python3"
  },
  "language_info": {
   "codemirror_mode": {
    "name": "ipython",
    "version": 3
   },
   "file_extension": ".py",
   "mimetype": "text/x-python",
   "name": "python",
   "nbconvert_exporter": "python",
   "pygments_lexer": "ipython3",
   "version": "3.7.9"
  }
 },
 "nbformat": 4,
 "nbformat_minor": 5
}
